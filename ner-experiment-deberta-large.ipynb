{
 "cells": [
  {
   "cell_type": "markdown",
   "id": "1239597d",
   "metadata": {
    "papermill": {
     "duration": 0.014434,
     "end_time": "2022-10-29T15:15:34.471123",
     "exception": false,
     "start_time": "2022-10-29T15:15:34.456689",
     "status": "completed"
    },
    "tags": []
   },
   "source": [
    "# GPU"
   ]
  },
  {
   "cell_type": "code",
   "execution_count": 1,
   "id": "e5eb25aa",
   "metadata": {
    "execution": {
     "iopub.execute_input": "2022-10-29T15:15:34.498995Z",
     "iopub.status.busy": "2022-10-29T15:15:34.498307Z",
     "iopub.status.idle": "2022-10-29T15:15:35.498829Z",
     "shell.execute_reply": "2022-10-29T15:15:35.497591Z"
    },
    "papermill": {
     "duration": 1.018259,
     "end_time": "2022-10-29T15:15:35.501610",
     "exception": false,
     "start_time": "2022-10-29T15:15:34.483351",
     "status": "completed"
    },
    "tags": []
   },
   "outputs": [
    {
     "name": "stdout",
     "output_type": "stream",
     "text": [
      "Sat Oct 29 15:15:35 2022       \r\n",
      "+-----------------------------------------------------------------------------+\r\n",
      "| NVIDIA-SMI 470.82.01    Driver Version: 470.82.01    CUDA Version: 11.4     |\r\n",
      "|-------------------------------+----------------------+----------------------+\r\n",
      "| GPU  Name        Persistence-M| Bus-Id        Disp.A | Volatile Uncorr. ECC |\r\n",
      "| Fan  Temp  Perf  Pwr:Usage/Cap|         Memory-Usage | GPU-Util  Compute M. |\r\n",
      "|                               |                      |               MIG M. |\r\n",
      "|===============================+======================+======================|\r\n",
      "|   0  Tesla P100-PCIE...  Off  | 00000000:00:04.0 Off |                    0 |\r\n",
      "| N/A   35C    P0    26W / 250W |      0MiB / 16280MiB |      0%      Default |\r\n",
      "|                               |                      |                  N/A |\r\n",
      "+-------------------------------+----------------------+----------------------+\r\n",
      "                                                                               \r\n",
      "+-----------------------------------------------------------------------------+\r\n",
      "| Processes:                                                                  |\r\n",
      "|  GPU   GI   CI        PID   Type   Process name                  GPU Memory |\r\n",
      "|        ID   ID                                                   Usage      |\r\n",
      "|=============================================================================|\r\n",
      "|  No running processes found                                                 |\r\n",
      "+-----------------------------------------------------------------------------+\r\n"
     ]
    }
   ],
   "source": [
    "!nvidia-smi"
   ]
  },
  {
   "cell_type": "markdown",
   "id": "b3860afb",
   "metadata": {
    "papermill": {
     "duration": 0.011796,
     "end_time": "2022-10-29T15:15:35.525632",
     "exception": false,
     "start_time": "2022-10-29T15:15:35.513836",
     "status": "completed"
    },
    "tags": []
   },
   "source": [
    "# Install packages"
   ]
  },
  {
   "cell_type": "code",
   "execution_count": 2,
   "id": "d3c8173d",
   "metadata": {
    "execution": {
     "iopub.execute_input": "2022-10-29T15:15:35.551557Z",
     "iopub.status.busy": "2022-10-29T15:15:35.550627Z",
     "iopub.status.idle": "2022-10-29T15:15:51.259030Z",
     "shell.execute_reply": "2022-10-29T15:15:51.257918Z"
    },
    "papermill": {
     "duration": 15.724196,
     "end_time": "2022-10-29T15:15:51.261719",
     "exception": false,
     "start_time": "2022-10-29T15:15:35.537523",
     "status": "completed"
    },
    "tags": []
   },
   "outputs": [
    {
     "name": "stdout",
     "output_type": "stream",
     "text": [
      "Collecting seqeval\r\n",
      "  Downloading seqeval-1.2.2.tar.gz (43 kB)\r\n",
      "\u001b[2K     \u001b[90m━━━━━━━━━━━━━━━━━━━━━━━━━━━━━━━━━━━━━━━\u001b[0m \u001b[32m43.6/43.6 kB\u001b[0m \u001b[31m345.7 kB/s\u001b[0m eta \u001b[36m0:00:00\u001b[0m\r\n",
      "\u001b[?25h  Preparing metadata (setup.py) ... \u001b[?25l-\b \bdone\r\n",
      "\u001b[?25hRequirement already satisfied: numpy>=1.14.0 in /opt/conda/lib/python3.7/site-packages (from seqeval) (1.21.6)\r\n",
      "Requirement already satisfied: scikit-learn>=0.21.3 in /opt/conda/lib/python3.7/site-packages (from seqeval) (1.0.2)\r\n",
      "Requirement already satisfied: scipy>=1.1.0 in /opt/conda/lib/python3.7/site-packages (from scikit-learn>=0.21.3->seqeval) (1.7.3)\r\n",
      "Requirement already satisfied: threadpoolctl>=2.0.0 in /opt/conda/lib/python3.7/site-packages (from scikit-learn>=0.21.3->seqeval) (3.1.0)\r\n",
      "Requirement already satisfied: joblib>=0.11 in /opt/conda/lib/python3.7/site-packages (from scikit-learn>=0.21.3->seqeval) (1.0.1)\r\n",
      "Building wheels for collected packages: seqeval\r\n",
      "  Building wheel for seqeval (setup.py) ... \u001b[?25l-\b \b\\\b \b|\b \bdone\r\n",
      "\u001b[?25h  Created wheel for seqeval: filename=seqeval-1.2.2-py3-none-any.whl size=16180 sha256=8d4ef4c8622284a341385430b921fe2b2261ebb0642752bb80e125d00e0c9072\r\n",
      "  Stored in directory: /root/.cache/pip/wheels/05/96/ee/7cac4e74f3b19e3158dce26a20a1c86b3533c43ec72a549fd7\r\n",
      "Successfully built seqeval\r\n",
      "Installing collected packages: seqeval\r\n",
      "Successfully installed seqeval-1.2.2\r\n",
      "\u001b[33mWARNING: Running pip as the 'root' user can result in broken permissions and conflicting behaviour with the system package manager. It is recommended to use a virtual environment instead: https://pip.pypa.io/warnings/venv\u001b[0m\u001b[33m\r\n",
      "\u001b[0m"
     ]
    }
   ],
   "source": [
    "!pip install seqeval"
   ]
  },
  {
   "cell_type": "markdown",
   "id": "29018a0a",
   "metadata": {
    "papermill": {
     "duration": 0.012542,
     "end_time": "2022-10-29T15:15:51.287215",
     "exception": false,
     "start_time": "2022-10-29T15:15:51.274673",
     "status": "completed"
    },
    "tags": []
   },
   "source": [
    "# Import"
   ]
  },
  {
   "cell_type": "code",
   "execution_count": 3,
   "id": "8b1a7c13",
   "metadata": {
    "execution": {
     "iopub.execute_input": "2022-10-29T15:15:51.313929Z",
     "iopub.status.busy": "2022-10-29T15:15:51.313622Z",
     "iopub.status.idle": "2022-10-29T15:15:52.168342Z",
     "shell.execute_reply": "2022-10-29T15:15:52.167353Z"
    },
    "papermill": {
     "duration": 0.871061,
     "end_time": "2022-10-29T15:15:52.170741",
     "exception": false,
     "start_time": "2022-10-29T15:15:51.299680",
     "status": "completed"
    },
    "tags": []
   },
   "outputs": [],
   "source": [
    "import gc\n",
    "from tqdm import tqdm\n",
    "import numpy as np\n",
    "import pandas as pd\n",
    "from collections import Counter\n",
    "import matplotlib.pyplot as plt\n",
    "from sklearn.model_selection import train_test_split"
   ]
  },
  {
   "cell_type": "code",
   "execution_count": 4,
   "id": "8d23e7d8",
   "metadata": {
    "execution": {
     "iopub.execute_input": "2022-10-29T15:15:52.199004Z",
     "iopub.status.busy": "2022-10-29T15:15:52.198052Z",
     "iopub.status.idle": "2022-10-29T15:15:53.789490Z",
     "shell.execute_reply": "2022-10-29T15:15:53.788468Z"
    },
    "papermill": {
     "duration": 1.608098,
     "end_time": "2022-10-29T15:15:53.791981",
     "exception": false,
     "start_time": "2022-10-29T15:15:52.183883",
     "status": "completed"
    },
    "tags": []
   },
   "outputs": [],
   "source": [
    "import torch\n",
    "from torch.utils.data import Dataset, DataLoader"
   ]
  },
  {
   "cell_type": "code",
   "execution_count": 5,
   "id": "6be1346d",
   "metadata": {
    "execution": {
     "iopub.execute_input": "2022-10-29T15:15:53.819795Z",
     "iopub.status.busy": "2022-10-29T15:15:53.819288Z",
     "iopub.status.idle": "2022-10-29T15:15:53.827835Z",
     "shell.execute_reply": "2022-10-29T15:15:53.826936Z"
    },
    "papermill": {
     "duration": 0.02435,
     "end_time": "2022-10-29T15:15:53.829789",
     "exception": false,
     "start_time": "2022-10-29T15:15:53.805439",
     "status": "completed"
    },
    "tags": []
   },
   "outputs": [],
   "source": [
    "from seqeval.metrics import classification_report\n",
    "from seqeval.scheme import IOB1\n",
    "from sklearn.metrics import classification_report as sk_classification_report\n",
    "from sklearn.metrics import confusion_matrix"
   ]
  },
  {
   "cell_type": "code",
   "execution_count": 6,
   "id": "1c342b72",
   "metadata": {
    "execution": {
     "iopub.execute_input": "2022-10-29T15:15:53.857180Z",
     "iopub.status.busy": "2022-10-29T15:15:53.856322Z",
     "iopub.status.idle": "2022-10-29T15:15:59.286558Z",
     "shell.execute_reply": "2022-10-29T15:15:59.285482Z"
    },
    "papermill": {
     "duration": 5.446457,
     "end_time": "2022-10-29T15:15:59.289102",
     "exception": false,
     "start_time": "2022-10-29T15:15:53.842645",
     "status": "completed"
    },
    "tags": []
   },
   "outputs": [],
   "source": [
    "import transformers\n",
    "from transformers import AutoTokenizer, AutoConfig, AutoModelForTokenClassification\n",
    "from transformers import Trainer, TrainingArguments\n",
    "from transformers import DebertaTokenizerFast\n",
    "from transformers import DataCollatorForTokenClassification"
   ]
  },
  {
   "cell_type": "code",
   "execution_count": 7,
   "id": "bc7b4773",
   "metadata": {
    "execution": {
     "iopub.execute_input": "2022-10-29T15:15:59.316943Z",
     "iopub.status.busy": "2022-10-29T15:15:59.316009Z",
     "iopub.status.idle": "2022-10-29T15:16:03.473654Z",
     "shell.execute_reply": "2022-10-29T15:16:03.472616Z"
    },
    "papermill": {
     "duration": 4.173893,
     "end_time": "2022-10-29T15:16:03.475983",
     "exception": false,
     "start_time": "2022-10-29T15:15:59.302090",
     "status": "completed"
    },
    "tags": []
   },
   "outputs": [],
   "source": [
    "from spacy import displacy"
   ]
  },
  {
   "cell_type": "markdown",
   "id": "c786f447",
   "metadata": {
    "papermill": {
     "duration": 0.012725,
     "end_time": "2022-10-29T15:16:03.501837",
     "exception": false,
     "start_time": "2022-10-29T15:16:03.489112",
     "status": "completed"
    },
    "tags": []
   },
   "source": [
    "# Functions"
   ]
  },
  {
   "cell_type": "code",
   "execution_count": 8,
   "id": "79cf3946",
   "metadata": {
    "execution": {
     "iopub.execute_input": "2022-10-29T15:16:03.529401Z",
     "iopub.status.busy": "2022-10-29T15:16:03.529081Z",
     "iopub.status.idle": "2022-10-29T15:16:03.538156Z",
     "shell.execute_reply": "2022-10-29T15:16:03.537108Z"
    },
    "papermill": {
     "duration": 0.025562,
     "end_time": "2022-10-29T15:16:03.540104",
     "exception": false,
     "start_time": "2022-10-29T15:16:03.514542",
     "status": "completed"
    },
    "tags": []
   },
   "outputs": [],
   "source": [
    "def read_data(file):\n",
    "    \n",
    "    \"\"\"\n",
    "        to read a data file into list of items\n",
    "        {\"sentences\": [...], \"labels_per_sent\": [...]}\n",
    "    \"\"\"\n",
    "    \n",
    "    lines = open(file, \"r\").readlines()\n",
    "    documents = []\n",
    "    sentence, labels = [], []\n",
    "    sentences, labels_per_sent = [], []\n",
    "    for line in tqdm(lines):\n",
    "        line = line.strip()\n",
    "        if not line:\n",
    "            if sentence and labels:\n",
    "                assert len(sentence) == len(labels)\n",
    "                sentences.append(sentence)\n",
    "                labels_per_sent.append(labels)\n",
    "                sentence, labels = [], []\n",
    "            continue\n",
    "        if line.startswith(\"-DOCSTART-\"):\n",
    "            \n",
    "            if len(sentences)>0:\n",
    "                documents.append({\"sentences\": sentences, \"labels_per_sent\": labels_per_sent})\n",
    "            sentences, labels_per_sent = [], []\n",
    "            \n",
    "            continue\n",
    "\n",
    "        else:\n",
    "            values = line.split(\" \")\n",
    "            try:\n",
    "                token, _, _, label = values\n",
    "                sentence.append(token)\n",
    "                if label != 'O':\n",
    "                    labels.append(label)\n",
    "                else:\n",
    "                    labels.append(label)\n",
    "\n",
    "            except Exception as e:\n",
    "                print(f\"Error has occur: {e}\")\n",
    "                continue\n",
    "    \n",
    "    # the last document\n",
    "    documents.append({\"sentences\": sentences, \"labels_per_sent\": labels_per_sent})\n",
    "    \n",
    "    return documents"
   ]
  },
  {
   "cell_type": "code",
   "execution_count": 9,
   "id": "f9116f2f",
   "metadata": {
    "execution": {
     "iopub.execute_input": "2022-10-29T15:16:03.567634Z",
     "iopub.status.busy": "2022-10-29T15:16:03.566215Z",
     "iopub.status.idle": "2022-10-29T15:16:03.574924Z",
     "shell.execute_reply": "2022-10-29T15:16:03.574064Z"
    },
    "papermill": {
     "duration": 0.024331,
     "end_time": "2022-10-29T15:16:03.576994",
     "exception": false,
     "start_time": "2022-10-29T15:16:03.552663",
     "status": "completed"
    },
    "tags": []
   },
   "outputs": [],
   "source": [
    "def correct_labels(batch_labels):\n",
    "    \n",
    "    \"\"\"\n",
    "        to correct labels in neighbour samples\n",
    "    \"\"\"\n",
    "\n",
    "    for i in range(len(batch_labels)):\n",
    "        if i > 0:\n",
    "            if batch_labels[i-1][-1]==\"O\" or batch_labels[i][0] ==\"O\": \n",
    "                continue\n",
    "            if batch_labels[i-1][-1].split(\"-\")[1] == batch_labels[i][0].split(\"-\")[1]:\n",
    "                batch_labels[i][0] = batch_labels[i][0].replace(\"I-\", \"B-\")\n",
    "    return batch_labels\n",
    "\n",
    "def chunk_documents(documents, chunk_size=1):\n",
    "    \n",
    "    \"\"\"\n",
    "        to chunk documents, each chunk consists from no more \n",
    "        than 'chunk_size' neighbour samples\n",
    "    \"\"\"\n",
    "    \n",
    "    new_sentences = []\n",
    "    new_labels_per_sent = []\n",
    "    for doc in documents:\n",
    "        \n",
    "        for i in range(0,len(doc[\"sentences\"]), chunk_size):\n",
    "\n",
    "            chunk_sentences = doc[\"sentences\"][i:i+chunk_size]\n",
    "            chunk_labels_per_sent = correct_labels(doc[\"labels_per_sent\"][i:i+chunk_size])\n",
    "\n",
    "            chunk_sentences = sum(chunk_sentences, [])\n",
    "            chunk_labels_per_sent = sum(chunk_labels_per_sent, [])\n",
    "\n",
    "            new_sentences.append(chunk_sentences)\n",
    "            new_labels_per_sent.append(chunk_labels_per_sent)\n",
    "        \n",
    "    return {\"sentences\":new_sentences, \"labels_per_sent\": new_labels_per_sent}"
   ]
  },
  {
   "cell_type": "code",
   "execution_count": 10,
   "id": "41611db4",
   "metadata": {
    "execution": {
     "iopub.execute_input": "2022-10-29T15:16:03.603058Z",
     "iopub.status.busy": "2022-10-29T15:16:03.602797Z",
     "iopub.status.idle": "2022-10-29T15:16:03.611313Z",
     "shell.execute_reply": "2022-10-29T15:16:03.610487Z"
    },
    "papermill": {
     "duration": 0.023805,
     "end_time": "2022-10-29T15:16:03.613258",
     "exception": false,
     "start_time": "2022-10-29T15:16:03.589453",
     "status": "completed"
    },
    "tags": []
   },
   "outputs": [],
   "source": [
    "def get_ner(words, tags):\n",
    "    \n",
    "    \"\"\"\n",
    "        to form entity infromation \n",
    "        from tag infromation\n",
    "    \"\"\"\n",
    "    \n",
    "    text = \"\"\n",
    "    ents = []\n",
    "    prev_tag = None\n",
    "    current_tag = None\n",
    "    for word, tag in zip(words, tags):\n",
    "        text = word if text==\"\" else text + \" \" + word\n",
    "        if (tag != prev_tag and prev_tag is not None) or \\\n",
    "           (prev_tag is None and tag!=\"O\"):\n",
    "            \n",
    "            if tag.startswith(\"I-\"):\n",
    "                start = len(text) - len(word)\n",
    "                current_tag = tag.replace(\"I-\",\"\")\n",
    "            elif tag.startswith(\"B-\"):\n",
    "                end = len(text) - len(word) - 1\n",
    "                ents.append({'start': start, 'end':end, 'label': current_tag})\n",
    "                start = len(text)\n",
    "                current_tag = tag.replace(\"B-\",\"\")\n",
    "            else:\n",
    "                end = len(text) - len(word) - 1\n",
    "                ents.append({'start': start, 'end':end, 'label': current_tag})\n",
    "            \n",
    "        prev_tag = tag\n",
    "\n",
    "    return {\"text\": text, \"ents\": ents, \"title\": None}\n",
    "\n",
    "def show_ner(words, tags):\n",
    "    \n",
    "    \"\"\"\n",
    "        to show entity infromation \n",
    "    \"\"\"\n",
    "    \n",
    "    ner_input = get_ner(words, tags)\n",
    "    displacy.render(ner_input, style=\"ent\", manual=True)"
   ]
  },
  {
   "cell_type": "markdown",
   "id": "0bcb71da",
   "metadata": {
    "papermill": {
     "duration": 0.012322,
     "end_time": "2022-10-29T15:16:03.638182",
     "exception": false,
     "start_time": "2022-10-29T15:16:03.625860",
     "status": "completed"
    },
    "tags": []
   },
   "source": [
    "# load data"
   ]
  },
  {
   "cell_type": "code",
   "execution_count": 11,
   "id": "12338df0",
   "metadata": {
    "execution": {
     "iopub.execute_input": "2022-10-29T15:16:03.665606Z",
     "iopub.status.busy": "2022-10-29T15:16:03.664184Z",
     "iopub.status.idle": "2022-10-29T15:16:04.270621Z",
     "shell.execute_reply": "2022-10-29T15:16:04.268973Z"
    },
    "papermill": {
     "duration": 0.622002,
     "end_time": "2022-10-29T15:16:04.272657",
     "exception": false,
     "start_time": "2022-10-29T15:16:03.650655",
     "status": "completed"
    },
    "tags": []
   },
   "outputs": [
    {
     "name": "stderr",
     "output_type": "stream",
     "text": [
      "100%|██████████| 219554/219554 [00:00<00:00, 974750.69it/s]\n",
      "100%|██████████| 55045/55045 [00:00<00:00, 195894.40it/s]\n"
     ]
    }
   ],
   "source": [
    "train_documents = read_data(\"../input/ner-task-data/eng.train\")\n",
    "test_documents = read_data(\"../input/ner-task-data/eng.testa\")"
   ]
  },
  {
   "cell_type": "code",
   "execution_count": 12,
   "id": "26f7646a",
   "metadata": {
    "execution": {
     "iopub.execute_input": "2022-10-29T15:16:04.300275Z",
     "iopub.status.busy": "2022-10-29T15:16:04.299968Z",
     "iopub.status.idle": "2022-10-29T15:16:04.306433Z",
     "shell.execute_reply": "2022-10-29T15:16:04.305474Z"
    },
    "papermill": {
     "duration": 0.022566,
     "end_time": "2022-10-29T15:16:04.308515",
     "exception": false,
     "start_time": "2022-10-29T15:16:04.285949",
     "status": "completed"
    },
    "tags": []
   },
   "outputs": [
    {
     "name": "stdout",
     "output_type": "stream",
     "text": [
      "number of documents in train data = 946\n",
      "number of documents in test data = 216\n"
     ]
    }
   ],
   "source": [
    "print(f\"number of documents in train data = {len(train_documents)}\")\n",
    "print(f\"number of documents in test data = {len(test_documents)}\")"
   ]
  },
  {
   "cell_type": "code",
   "execution_count": 13,
   "id": "4a27c675",
   "metadata": {
    "execution": {
     "iopub.execute_input": "2022-10-29T15:16:04.337496Z",
     "iopub.status.busy": "2022-10-29T15:16:04.336576Z",
     "iopub.status.idle": "2022-10-29T15:16:04.380862Z",
     "shell.execute_reply": "2022-10-29T15:16:04.379912Z"
    },
    "papermill": {
     "duration": 0.06115,
     "end_time": "2022-10-29T15:16:04.383014",
     "exception": false,
     "start_time": "2022-10-29T15:16:04.321864",
     "status": "completed"
    },
    "tags": []
   },
   "outputs": [],
   "source": [
    "train_data = chunk_documents(documents = train_documents, chunk_size=1) # get all sentences\n",
    "test_data = chunk_documents(documents = test_documents, chunk_size=1)"
   ]
  },
  {
   "cell_type": "code",
   "execution_count": 14,
   "id": "a86f3120",
   "metadata": {
    "execution": {
     "iopub.execute_input": "2022-10-29T15:16:04.411020Z",
     "iopub.status.busy": "2022-10-29T15:16:04.410236Z",
     "iopub.status.idle": "2022-10-29T15:16:04.416170Z",
     "shell.execute_reply": "2022-10-29T15:16:04.415173Z"
    },
    "papermill": {
     "duration": 0.021819,
     "end_time": "2022-10-29T15:16:04.418101",
     "exception": false,
     "start_time": "2022-10-29T15:16:04.396282",
     "status": "completed"
    },
    "tags": []
   },
   "outputs": [
    {
     "name": "stdout",
     "output_type": "stream",
     "text": [
      "number of chunked sentences in train data = 14041\n",
      "number of chunked sentences in test data = 3250\n"
     ]
    }
   ],
   "source": [
    "print(f\"number of chunked sentences in train data = {len(train_data['sentences'])}\")\n",
    "print(f\"number of chunked sentences in test data = {len(test_data['sentences'])}\")"
   ]
  },
  {
   "cell_type": "markdown",
   "id": "9e9acc04",
   "metadata": {
    "papermill": {
     "duration": 0.012935,
     "end_time": "2022-10-29T15:16:04.444481",
     "exception": false,
     "start_time": "2022-10-29T15:16:04.431546",
     "status": "completed"
    },
    "tags": []
   },
   "source": [
    "# Simple EDA"
   ]
  },
  {
   "cell_type": "markdown",
   "id": "485c17cd",
   "metadata": {
    "execution": {
     "iopub.execute_input": "2022-10-26T05:50:25.128079Z",
     "iopub.status.busy": "2022-10-26T05:50:25.127599Z",
     "iopub.status.idle": "2022-10-26T05:50:25.133634Z",
     "shell.execute_reply": "2022-10-26T05:50:25.132061Z",
     "shell.execute_reply.started": "2022-10-26T05:50:25.128041Z"
    },
    "papermill": {
     "duration": 0.012933,
     "end_time": "2022-10-29T15:16:04.470536",
     "exception": false,
     "start_time": "2022-10-29T15:16:04.457603",
     "status": "completed"
    },
    "tags": []
   },
   "source": [
    "### Tags distribution"
   ]
  },
  {
   "cell_type": "code",
   "execution_count": 15,
   "id": "c6dc5063",
   "metadata": {
    "execution": {
     "iopub.execute_input": "2022-10-29T15:16:04.499268Z",
     "iopub.status.busy": "2022-10-29T15:16:04.497852Z",
     "iopub.status.idle": "2022-10-29T15:16:04.556292Z",
     "shell.execute_reply": "2022-10-29T15:16:04.555406Z"
    },
    "papermill": {
     "duration": 0.074583,
     "end_time": "2022-10-29T15:16:04.558293",
     "exception": false,
     "start_time": "2022-10-29T15:16:04.483710",
     "status": "completed"
    },
    "tags": []
   },
   "outputs": [],
   "source": [
    "def get_num_tags(data):\n",
    "    positions={}\n",
    "    for labels in data[\"labels_per_sent\"]:\n",
    "        for i, label in enumerate(labels):\n",
    "            if label not in positions:  positions[label] = 0\n",
    "            positions[label]+=1\n",
    "    return positions\n",
    "\n",
    "train_num_by_tags = get_num_tags(data=train_data)\n",
    "test_num_by_tags = get_num_tags(data=test_data)\n",
    "\n",
    "all_keys = [\"O\"] # all the possible names of tags\n",
    "for tag in list(set(train_num_by_tags.keys()) | set(test_num_by_tags.keys())):\n",
    "    if tag!=\"O\":\n",
    "        all_keys.append(f\"B-{tag.split('-')[1]}\")\n",
    "        all_keys.append(f\"I-{tag.split('-')[1]}\")\n",
    "        \n",
    "        \n",
    "all_keys = list(set(all_keys))\n",
    "train_num_by_tags = {key:train_num_by_tags[key] if key in train_num_by_tags else 0 for key in all_keys}\n",
    "test_num_by_tags = {key:test_num_by_tags[key] if key in test_num_by_tags else 0 for key in all_keys}\n",
    "\n",
    "sorted_keys = [k for  k, v in sorted(train_num_by_tags.items(), key=lambda x: x[1], reverse=True)]\n",
    "num_all_train_tags = sum([v for k,v in train_num_by_tags.items()])\n",
    "num_all_test_tags = sum([v for k,v in test_num_by_tags.items()])"
   ]
  },
  {
   "cell_type": "code",
   "execution_count": 16,
   "id": "0734f5d1",
   "metadata": {
    "execution": {
     "iopub.execute_input": "2022-10-29T15:16:04.585672Z",
     "iopub.status.busy": "2022-10-29T15:16:04.585408Z",
     "iopub.status.idle": "2022-10-29T15:16:04.592752Z",
     "shell.execute_reply": "2022-10-29T15:16:04.591839Z"
    },
    "papermill": {
     "duration": 0.02325,
     "end_time": "2022-10-29T15:16:04.594633",
     "exception": false,
     "start_time": "2022-10-29T15:16:04.571383",
     "status": "completed"
    },
    "tags": []
   },
   "outputs": [
    {
     "data": {
      "text/plain": [
       "['O', 'I-PER', 'I-ORG', 'I-LOC', 'I-MISC', 'B-MISC', 'B-ORG', 'B-LOC', 'B-PER']"
      ]
     },
     "execution_count": 16,
     "metadata": {},
     "output_type": "execute_result"
    }
   ],
   "source": [
    "sorted_keys"
   ]
  },
  {
   "cell_type": "code",
   "execution_count": 17,
   "id": "4ac47816",
   "metadata": {
    "execution": {
     "iopub.execute_input": "2022-10-29T15:16:04.622634Z",
     "iopub.status.busy": "2022-10-29T15:16:04.621876Z",
     "iopub.status.idle": "2022-10-29T15:16:04.630413Z",
     "shell.execute_reply": "2022-10-29T15:16:04.629093Z"
    },
    "papermill": {
     "duration": 0.024671,
     "end_time": "2022-10-29T15:16:04.632449",
     "exception": false,
     "start_time": "2022-10-29T15:16:04.607778",
     "status": "completed"
    },
    "tags": []
   },
   "outputs": [
    {
     "name": "stdout",
     "output_type": "stream",
     "text": [
      "('Tension', 'O') ('has', 'O') ('mounted', 'O') ('since', 'O') ('Israeli', 'I-MISC') ('Prime', 'O') ('Minister', 'O') ('Benjamin', 'I-PER') ('Netanyahu', 'I-PER') ('took', 'O') ('office', 'O') ('in', 'O') ('June', 'O') ('vowing', 'O') ('to', 'O') ('retain', 'O') ('the', 'O') ('Golan', 'I-LOC') ('Heights', 'I-LOC') ('Israel', 'B-LOC') ('captured', 'O') ('from', 'O') ('Syria', 'I-LOC') ('in', 'O') ('the', 'O') ('1967', 'O') ('Middle', 'I-LOC') ('East', 'I-LOC') ('war', 'O') ('.', 'O')\n",
      "\n",
      "('The', 'O') ('Russians', 'I-MISC') (',', 'O') ('working', 'O') ('for', 'O') ('the', 'O') ('Aerostan', 'I-ORG') ('firm', 'O') ('in', 'O') ('the', 'O') ('Russian', 'I-MISC') ('republic', 'O') ('of', 'O') ('Tatarstan', 'I-LOC') (',', 'O') ('were', 'O') ('taken', 'O') ('hostage', 'O') ('after', 'O') ('a', 'O') ('Taleban', 'I-MISC') ('MiG-19', 'B-MISC') ('fighter', 'O') ('forced', 'O') ('their', 'O') ('cargo', 'O') ('plane', 'O') ('to', 'O') ('land', 'O') ('in', 'O') ('August', 'O') ('1995', 'O') ('.', 'O')\n",
      "\n",
      "('English', 'I-MISC') ('County', 'B-MISC') ('Championship', 'I-MISC') ('cricket', 'O') ('matches', 'O') ('on', 'O') ('Thursday', 'O') (':', 'O')\n",
      "\n",
      "('Australian', 'I-MISC') ('Davis', 'B-MISC') ('Cup', 'I-MISC') ('captain', 'O') ('John', 'I-PER') ('Newcombe', 'I-PER') ('on', 'O') ('Thursday', 'O') ('signalled', 'O') ('his', 'O') ('possible', 'O') ('resignation', 'O') ('if', 'O') ('his', 'O') ('team', 'O') ('loses', 'O') ('an', 'O') ('away', 'O') ('tie', 'O') ('against', 'O') ('Croatia', 'I-LOC') ('next', 'O') ('month', 'O') ('.', 'O')\n",
      "\n"
     ]
    }
   ],
   "source": [
    "i = 0\n",
    "for sentence, labels in zip(train_data[\"sentences\"], train_data[\"labels_per_sent\"]):\n",
    "    for label in labels:\n",
    "        if label.startswith(\"B-\"):\n",
    "            i+=1\n",
    "            print(*zip(sentence, labels))\n",
    "            print()\n",
    "            \n",
    "    if i > 3: break"
   ]
  },
  {
   "cell_type": "code",
   "execution_count": 18,
   "id": "f1e8910d",
   "metadata": {
    "execution": {
     "iopub.execute_input": "2022-10-29T15:16:04.660537Z",
     "iopub.status.busy": "2022-10-29T15:16:04.659777Z",
     "iopub.status.idle": "2022-10-29T15:16:04.663796Z",
     "shell.execute_reply": "2022-10-29T15:16:04.662839Z"
    },
    "papermill": {
     "duration": 0.020049,
     "end_time": "2022-10-29T15:16:04.665778",
     "exception": false,
     "start_time": "2022-10-29T15:16:04.645729",
     "status": "completed"
    },
    "tags": []
   },
   "outputs": [],
   "source": [
    "### Conclusion: we can see that IOB1 tagging method was used. \n",
    "### In that method B-YYY tag is used for separating different entities that have one type\n",
    "### and are located sequentially with no separators beetween.\n"
   ]
  },
  {
   "cell_type": "code",
   "execution_count": 19,
   "id": "baea4986",
   "metadata": {
    "execution": {
     "iopub.execute_input": "2022-10-29T15:16:04.694041Z",
     "iopub.status.busy": "2022-10-29T15:16:04.693266Z",
     "iopub.status.idle": "2022-10-29T15:16:04.994605Z",
     "shell.execute_reply": "2022-10-29T15:16:04.993722Z"
    },
    "papermill": {
     "duration": 0.317859,
     "end_time": "2022-10-29T15:16:04.996882",
     "exception": false,
     "start_time": "2022-10-29T15:16:04.679023",
     "status": "completed"
    },
    "tags": []
   },
   "outputs": [
    {
     "data": {
      "image/png": "[encoded data removed]",
      "text/plain": [
       "<Figure size 1080x216 with 2 Axes>"
      ]
     },
     "metadata": {
      "needs_background": "light"
     },
     "output_type": "display_data"
    }
   ],
   "source": [
    "fig, axes = plt.subplots(1,2)\n",
    "fig.set_size_inches(15,3)\n",
    "\n",
    "X = range(len(sorted_keys))\n",
    "axes[0].bar(X, [train_num_by_tags[key]/num_all_train_tags for key in sorted_keys], alpha=0.2, color='blue')\n",
    "axes[0].set_xticks(X, sorted_keys)\n",
    "axes[0].set_title(\"labels in TRAIN data\")\n",
    "\n",
    "axes[1].bar(X, [test_num_by_tags[key]/num_all_test_tags for key in sorted_keys], alpha=0.2, color='green')\n",
    "axes[1].set_xticks(X, sorted_keys)\n",
    "axes[1].set_title(\"labels in TEST data\")\n",
    "\n",
    "plt.show()"
   ]
  },
  {
   "cell_type": "code",
   "execution_count": 20,
   "id": "7e6a43c3",
   "metadata": {
    "execution": {
     "iopub.execute_input": "2022-10-29T15:16:05.025684Z",
     "iopub.status.busy": "2022-10-29T15:16:05.025400Z",
     "iopub.status.idle": "2022-10-29T15:16:05.030299Z",
     "shell.execute_reply": "2022-10-29T15:16:05.029350Z"
    },
    "papermill": {
     "duration": 0.022338,
     "end_time": "2022-10-29T15:16:05.033139",
     "exception": false,
     "start_time": "2022-10-29T15:16:05.010801",
     "status": "completed"
    },
    "tags": []
   },
   "outputs": [
    {
     "name": "stdout",
     "output_type": "stream",
     "text": [
      "Number of tags in train data:  {'B-ORG': 24, 'I-LOC': 8286, 'I-ORG': 10001, 'I-MISC': 4556, 'I-PER': 11128, 'O': 169578, 'B-MISC': 37, 'B-LOC': 11, 'B-PER': 0}\n",
      "Number of tags in test  data:  {'B-ORG': 0, 'I-LOC': 2094, 'I-ORG': 2092, 'I-MISC': 1264, 'I-PER': 3149, 'O': 42759, 'B-MISC': 4, 'B-LOC': 0, 'B-PER': 0}\n"
     ]
    }
   ],
   "source": [
    "print(\"Number of tags in train data: \", train_num_by_tags)\n",
    "print(\"Number of tags in test  data: \", test_num_by_tags)"
   ]
  },
  {
   "cell_type": "code",
   "execution_count": 21,
   "id": "3a2ef78f",
   "metadata": {
    "execution": {
     "iopub.execute_input": "2022-10-29T15:16:05.062067Z",
     "iopub.status.busy": "2022-10-29T15:16:05.061805Z",
     "iopub.status.idle": "2022-10-29T15:16:05.065609Z",
     "shell.execute_reply": "2022-10-29T15:16:05.064659Z"
    },
    "papermill": {
     "duration": 0.019986,
     "end_time": "2022-10-29T15:16:05.067506",
     "exception": false,
     "start_time": "2022-10-29T15:16:05.047520",
     "status": "completed"
    },
    "tags": []
   },
   "outputs": [],
   "source": [
    "# Conclusion: number of tags distribution is near the same in train and test data, \n",
    "# but train data consists more neighors entities e.g. [I-LOC, I-LOC, B-LOC, I-LOC]"
   ]
  },
  {
   "cell_type": "markdown",
   "id": "9808f646",
   "metadata": {
    "papermill": {
     "duration": 0.013346,
     "end_time": "2022-10-29T15:16:05.094415",
     "exception": false,
     "start_time": "2022-10-29T15:16:05.081069",
     "status": "completed"
    },
    "tags": []
   },
   "source": [
    "### Print values of entities in train data"
   ]
  },
  {
   "cell_type": "code",
   "execution_count": 22,
   "id": "ab056824",
   "metadata": {
    "execution": {
     "iopub.execute_input": "2022-10-29T15:16:05.122862Z",
     "iopub.status.busy": "2022-10-29T15:16:05.122265Z",
     "iopub.status.idle": "2022-10-29T15:16:05.231778Z",
     "shell.execute_reply": "2022-10-29T15:16:05.230855Z"
    },
    "papermill": {
     "duration": 0.126175,
     "end_time": "2022-10-29T15:16:05.234136",
     "exception": false,
     "start_time": "2022-10-29T15:16:05.107961",
     "status": "completed"
    },
    "tags": []
   },
   "outputs": [],
   "source": [
    "entities_by_types = {}\n",
    "for i, (sentence, labels) in enumerate(zip(train_data[\"sentences\"], train_data[\"labels_per_sent\"])):\n",
    "    ner_info = get_ner(sentence, labels)\n",
    "    for ent in ner_info[\"ents\"]:\n",
    "        \n",
    "        if ent[\"label\"] not in  entities_by_types: \n",
    "            entities_by_types[ent[\"label\"]] = []\n",
    "        entities_by_types[ent[\"label\"]].append(ner_info[\"text\"][ent[\"start\"]:ent[\"end\"]])"
   ]
  },
  {
   "cell_type": "code",
   "execution_count": 23,
   "id": "f275ebbc",
   "metadata": {
    "execution": {
     "iopub.execute_input": "2022-10-29T15:16:05.263864Z",
     "iopub.status.busy": "2022-10-29T15:16:05.263012Z",
     "iopub.status.idle": "2022-10-29T15:16:05.281831Z",
     "shell.execute_reply": "2022-10-29T15:16:05.280932Z"
    },
    "papermill": {
     "duration": 0.035499,
     "end_time": "2022-10-29T15:16:05.283857",
     "exception": false,
     "start_time": "2022-10-29T15:16:05.248358",
     "status": "completed"
    },
    "tags": []
   },
   "outputs": [
    {
     "name": "stdout",
     "output_type": "stream",
     "text": [
      "ner type = ORG: \n",
      "[('Reuters', 73), ('U.N.', 35), ('NEW YORK', 30), ('CHICAGO', 30), ('PUK', 25), ('OSCE', 25), ('EU', 22), ('NATO', 22), ('European Union', 20), ('Interfax', 18), ('Ajax', 18), ('KDP', 17), ('BALTIMORE', 17), ('MINNESOTA', 17), ('BOSTON', 16), ('DETROIT', 16), ('KANSAS CITY', 16), ('SEATTLE', 16), ('CINCINNATI', 16), ('Marseille', 16)]\n",
      "\n",
      "ner type = MISC: \n",
      "[('Russian', 90), ('German', 76), ('British', 72), ('French', 55), ('Dutch', 50), ('Israeli', 48), ('GMT', 45), ('European', 38), ('English', 37), ('Iraqi', 37), ('Palestinian', 36), ('Olympic', 35), ('Australian', 34), ('Moslem', 31), ('Italian', 28), ('Japanese', 26), ('Republican', 26), ('Chinese', 25), ('World Cup', 24), ('American', 24)]\n",
      "\n",
      "ner type = LOC: \n",
      "[('U.S.', 291), ('Germany', 141), ('Britain', 130), ('Australia', 129), ('France', 121), ('England', 121), ('Spain', 110), ('Italy', 98), ('LONDON', 92), ('China', 91), ('Russia', 88), ('Japan', 87), ('Pakistan', 83), ('Sweden', 81), ('Belgium', 71), ('Iraq', 68), ('India', 66), ('Israel', 63), ('Netherlands', 61), ('London', 59)]\n",
      "\n",
      "ner type = PER: \n",
      "[('Clinton', 69), ('Dole', 36), ('Arafat', 35), ('Yeltsin', 32), ('Lebed', 30), ('Dutroux', 30), ('Wasim Akram', 29), ('Mushtaq Ahmed', 24), ('Waqar Younis', 23), ('Mother Teresa', 20), ('Bill Clinton', 19), ('Aamir Sohail', 18), ('Croft', 18), ('Mullally', 18), ('Netanyahu', 16), ('Saeed Anwar', 16), ('Rubin', 16), ('Diana', 15), ('Meri', 15), ('Ijaz Ahmed', 14)]\n",
      "\n"
     ]
    }
   ],
   "source": [
    "counter_by_types = {}\n",
    "for ner_type in entities_by_types:\n",
    "    if ner_type not in counter_by_types: counter_by_types[ner_type]=Counter()\n",
    "    \n",
    "    for ner_value in entities_by_types[ner_type]:\n",
    "        counter_by_types[ner_type][ner_value]+=1\n",
    "        \n",
    "for ner_type in entities_by_types:\n",
    "    print(f\"ner type = {ner_type}: \")\n",
    "    \n",
    "    print(counter_by_types[ner_type].most_common(20))\n",
    "    print()"
   ]
  },
  {
   "cell_type": "code",
   "execution_count": 24,
   "id": "a806fddf",
   "metadata": {
    "execution": {
     "iopub.execute_input": "2022-10-29T15:16:05.313451Z",
     "iopub.status.busy": "2022-10-29T15:16:05.311936Z",
     "iopub.status.idle": "2022-10-29T15:16:05.318204Z",
     "shell.execute_reply": "2022-10-29T15:16:05.316688Z"
    },
    "papermill": {
     "duration": 0.023332,
     "end_time": "2022-10-29T15:16:05.320811",
     "exception": false,
     "start_time": "2022-10-29T15:16:05.297479",
     "status": "completed"
    },
    "tags": []
   },
   "outputs": [
    {
     "name": "stdout",
     "output_type": "stream",
     "text": [
      "Number of entities in train data:\n",
      "The tag 'ORG' has 6112 samples\n",
      "The tag 'MISC' has 3187 samples\n",
      "The tag 'LOC' has 6938 samples\n",
      "The tag 'PER' has 6355 samples\n"
     ]
    }
   ],
   "source": [
    "print(\"Number of entities in train data:\")\n",
    "for ner_type in entities_by_types:\n",
    "    print(f\"The tag '{ner_type}' has {len(entities_by_types[ner_type])} samples\")"
   ]
  },
  {
   "cell_type": "markdown",
   "id": "a37a2f2a",
   "metadata": {
    "execution": {
     "iopub.execute_input": "2022-10-25T17:53:27.80289Z",
     "iopub.status.busy": "2022-10-25T17:53:27.802454Z",
     "iopub.status.idle": "2022-10-25T17:53:27.808129Z",
     "shell.execute_reply": "2022-10-25T17:53:27.806814Z",
     "shell.execute_reply.started": "2022-10-25T17:53:27.802854Z"
    },
    "papermill": {
     "duration": 0.013581,
     "end_time": "2022-10-29T15:16:05.348652",
     "exception": false,
     "start_time": "2022-10-29T15:16:05.335071",
     "status": "completed"
    },
    "tags": []
   },
   "source": [
    "### Lengths distribution"
   ]
  },
  {
   "cell_type": "code",
   "execution_count": 25,
   "id": "3523d53c",
   "metadata": {
    "execution": {
     "iopub.execute_input": "2022-10-29T15:16:05.379482Z",
     "iopub.status.busy": "2022-10-29T15:16:05.377237Z",
     "iopub.status.idle": "2022-10-29T15:16:05.793092Z",
     "shell.execute_reply": "2022-10-29T15:16:05.792131Z"
    },
    "papermill": {
     "duration": 0.43348,
     "end_time": "2022-10-29T15:16:05.795823",
     "exception": false,
     "start_time": "2022-10-29T15:16:05.362343",
     "status": "completed"
    },
    "tags": []
   },
   "outputs": [
    {
     "data": {
      "image/png": "[encoded data removed]",
      "text/plain": [
       "<Figure size 1080x216 with 2 Axes>"
      ]
     },
     "metadata": {
      "needs_background": "light"
     },
     "output_type": "display_data"
    },
    {
     "name": "stdout",
     "output_type": "stream",
     "text": [
      "Lengths of sentence in TRAIN data: min = 1, max = 113, mean = 14.501887329962253\n",
      "Lengths of sentence in TEST  data: min = 1, max = 109, mean = 15.803692307692307\n"
     ]
    }
   ],
   "source": [
    "lens_of_train_data, lens_of_test_data = [len(t) for t in train_data[\"sentences\"]], [len(t) for t in test_data[\"sentences\"]] \n",
    "\n",
    "fig, axes = plt.subplots(1,2)\n",
    "fig.set_size_inches(15,3)\n",
    "axes[0].hist(lens_of_train_data, alpha=0.2, color='blue', bins = 30, density=True)\n",
    "axes[0].set_xlabel(\"number of tokens\")\n",
    "axes[0].set_title(\"Train lengths distribution (number of tokens)\")\n",
    "axes[1].hist(lens_of_test_data, alpha=0.2, color='green', bins = 30, density=True)\n",
    "axes[1].set_xlabel(\"number of tokens\")\n",
    "axes[1].set_title(\"Test lengths distribution (number of tokens)\")\n",
    "plt.show()\n",
    "\n",
    "min_train, max_train, mean_train = min(lens_of_train_data), max(lens_of_train_data), sum(lens_of_train_data)/len(lens_of_train_data)\n",
    "print(f\"Lengths of sentence in TRAIN data: min = {min_train}, max = {max_train}, mean = {mean_train}\")\n",
    "\n",
    "min_test, max_test, mean_test = min(lens_of_test_data), max(lens_of_test_data), sum(lens_of_test_data)/len(lens_of_test_data)\n",
    "print(f\"Lengths of sentence in TEST  data: min = {min_test}, max = {max_test}, mean = {mean_test}\")"
   ]
  },
  {
   "cell_type": "code",
   "execution_count": 26,
   "id": "541ab15c",
   "metadata": {
    "execution": {
     "iopub.execute_input": "2022-10-29T15:16:05.825262Z",
     "iopub.status.busy": "2022-10-29T15:16:05.824962Z",
     "iopub.status.idle": "2022-10-29T15:16:05.833886Z",
     "shell.execute_reply": "2022-10-29T15:16:05.832865Z"
    },
    "papermill": {
     "duration": 0.02749,
     "end_time": "2022-10-29T15:16:05.837558",
     "exception": false,
     "start_time": "2022-10-29T15:16:05.810068",
     "status": "completed"
    },
    "tags": []
   },
   "outputs": [
    {
     "name": "stdout",
     "output_type": "stream",
     "text": [
      "[['Peter', 'Blackburn'], ['BRUSSELS', '1996-08-22'], ['.'], ['Only', 'France', 'and', 'Britain', 'backed', 'Fischler', \"'s\", 'proposal', '.']]\n",
      "[['I-PER', 'I-PER'], ['I-LOC', 'O'], ['O'], ['O', 'I-LOC', 'O', 'I-LOC', 'O', 'I-PER', 'O', 'O', 'O']]\n"
     ]
    }
   ],
   "source": [
    "print([t for t in train_data['sentences'] if len(t)<14][1:5])\n",
    "print([t for t in train_data['labels_per_sent'] if len(t)<14][1:5])"
   ]
  },
  {
   "cell_type": "code",
   "execution_count": 27,
   "id": "f6529a56",
   "metadata": {
    "execution": {
     "iopub.execute_input": "2022-10-29T15:16:05.868009Z",
     "iopub.status.busy": "2022-10-29T15:16:05.867711Z",
     "iopub.status.idle": "2022-10-29T15:16:05.871688Z",
     "shell.execute_reply": "2022-10-29T15:16:05.870717Z"
    },
    "papermill": {
     "duration": 0.020867,
     "end_time": "2022-10-29T15:16:05.873700",
     "exception": false,
     "start_time": "2022-10-29T15:16:05.852833",
     "status": "completed"
    },
    "tags": []
   },
   "outputs": [],
   "source": [
    "### Conclusion: if we treat each sentence as a training sample we would face on with problem of \n",
    "### lack of a context information (example - ['Peter', 'Blackburn'])\n",
    "### We need to use chunks that consists from many sentences"
   ]
  },
  {
   "cell_type": "markdown",
   "id": "3de6c484",
   "metadata": {
    "execution": {
     "iopub.execute_input": "2022-10-26T06:03:09.958496Z",
     "iopub.status.busy": "2022-10-26T06:03:09.9581Z",
     "iopub.status.idle": "2022-10-26T06:03:09.96313Z",
     "shell.execute_reply": "2022-10-26T06:03:09.962214Z",
     "shell.execute_reply.started": "2022-10-26T06:03:09.958464Z"
    },
    "papermill": {
     "duration": 0.013815,
     "end_time": "2022-10-29T15:16:05.901602",
     "exception": false,
     "start_time": "2022-10-29T15:16:05.887787",
     "status": "completed"
    },
    "tags": []
   },
   "source": [
    "# Dataset and tokenizer"
   ]
  },
  {
   "cell_type": "code",
   "execution_count": 28,
   "id": "7f716ba2",
   "metadata": {
    "execution": {
     "iopub.execute_input": "2022-10-29T15:16:05.930599Z",
     "iopub.status.busy": "2022-10-29T15:16:05.930329Z",
     "iopub.status.idle": "2022-10-29T15:16:13.096891Z",
     "shell.execute_reply": "2022-10-29T15:16:13.095883Z"
    },
    "papermill": {
     "duration": 7.183866,
     "end_time": "2022-10-29T15:16:13.099434",
     "exception": false,
     "start_time": "2022-10-29T15:16:05.915568",
     "status": "completed"
    },
    "tags": []
   },
   "outputs": [
    {
     "data": {
      "application/vnd.jupyter.widget-view+json": {
       "model_id": "36123669b18e4592a448d2dd8dcfa16c",
       "version_major": 2,
       "version_minor": 0
      },
      "text/plain": [
       "Downloading:   0%|          | 0.00/52.0 [00:00<?, ?B/s]"
      ]
     },
     "metadata": {},
     "output_type": "display_data"
    },
    {
     "data": {
      "application/vnd.jupyter.widget-view+json": {
       "model_id": "b67fa5f01b274bd1b0615d25cf459859",
       "version_major": 2,
       "version_minor": 0
      },
      "text/plain": [
       "Downloading:   0%|          | 0.00/878k [00:00<?, ?B/s]"
      ]
     },
     "metadata": {},
     "output_type": "display_data"
    },
    {
     "data": {
      "application/vnd.jupyter.widget-view+json": {
       "model_id": "90d77346092a490e89f46aab3948755a",
       "version_major": 2,
       "version_minor": 0
      },
      "text/plain": [
       "Downloading:   0%|          | 0.00/446k [00:00<?, ?B/s]"
      ]
     },
     "metadata": {},
     "output_type": "display_data"
    },
    {
     "data": {
      "application/vnd.jupyter.widget-view+json": {
       "model_id": "ff0f870552e74a318750d3d3c0be5877",
       "version_major": 2,
       "version_minor": 0
      },
      "text/plain": [
       "Downloading:   0%|          | 0.00/475 [00:00<?, ?B/s]"
      ]
     },
     "metadata": {},
     "output_type": "display_data"
    }
   ],
   "source": [
    "model_name = \"microsoft/deberta-large\" \n",
    "tokenizer = DebertaTokenizerFast.from_pretrained(model_name, add_prefix_space=True)"
   ]
  },
  {
   "cell_type": "code",
   "execution_count": 29,
   "id": "9ba869cf",
   "metadata": {
    "execution": {
     "iopub.execute_input": "2022-10-29T15:16:13.130266Z",
     "iopub.status.busy": "2022-10-29T15:16:13.129941Z",
     "iopub.status.idle": "2022-10-29T15:16:13.134963Z",
     "shell.execute_reply": "2022-10-29T15:16:13.133944Z"
    },
    "papermill": {
     "duration": 0.022425,
     "end_time": "2022-10-29T15:16:13.136921",
     "exception": false,
     "start_time": "2022-10-29T15:16:13.114496",
     "status": "completed"
    },
    "tags": []
   },
   "outputs": [],
   "source": [
    "ind_to_label = {i:v for i, v in enumerate(sorted_keys)}\n",
    "label_to_ind = {label:i for i, label in ind_to_label.items()}"
   ]
  },
  {
   "cell_type": "code",
   "execution_count": 30,
   "id": "dd4544e4",
   "metadata": {
    "execution": {
     "iopub.execute_input": "2022-10-29T15:16:13.168379Z",
     "iopub.status.busy": "2022-10-29T15:16:13.167495Z",
     "iopub.status.idle": "2022-10-29T15:16:13.176834Z",
     "shell.execute_reply": "2022-10-29T15:16:13.175892Z"
    },
    "papermill": {
     "duration": 0.027075,
     "end_time": "2022-10-29T15:16:13.178809",
     "exception": false,
     "start_time": "2022-10-29T15:16:13.151734",
     "status": "completed"
    },
    "tags": []
   },
   "outputs": [],
   "source": [
    "class NERDataset(Dataset):\n",
    "\n",
    "    def __init__(self, data, tokenizer, max_length, tag_first_token, label_to_ind):\n",
    "        \n",
    "        self.tokenizer = tokenizer\n",
    "        self.data = data\n",
    "        self.max_length = max_length\n",
    "        self.tag_first_token = tag_first_token\n",
    "        self.label_to_ind = label_to_ind\n",
    "\n",
    "    def __getitem__(self, index):\n",
    "        \n",
    "        sentence = self.data[\"sentences\"][index]\n",
    "        encoded_sentence = self.tokenizer(sentence,\n",
    "                                          truncation=True,\n",
    "                                          max_length=self.max_length, \n",
    "                                          is_split_into_words=True)\n",
    "        if \"labels_per_sent\" in self.data:\n",
    "            labels_per_sent = self.data[\"labels_per_sent\"][index] \n",
    "            \n",
    "            labels = []\n",
    "            prev_word_id = None\n",
    "            for word_ind in encoded_sentence.word_ids():\n",
    "                \n",
    "                if word_ind is None:\n",
    "                    labels.append(-100)\n",
    "                else:\n",
    "                    if self.tag_first_token and word_ind==prev_word_ind:\n",
    "                        labels.append(-100)\n",
    "                    else:\n",
    "                        labels.append(self.label_to_ind[labels_per_sent[word_ind]])\n",
    "                    \n",
    "                prev_word_ind = word_ind\n",
    "                \n",
    "            encoded_sentence.update({\"labels\": labels})\n",
    "        \n",
    "        return encoded_sentence\n",
    "                \n",
    "    def __len__(self):\n",
    "        return len(self.data[\"sentences\"])\n"
   ]
  },
  {
   "cell_type": "code",
   "execution_count": 31,
   "id": "6ef42e23",
   "metadata": {
    "execution": {
     "iopub.execute_input": "2022-10-29T15:16:13.209333Z",
     "iopub.status.busy": "2022-10-29T15:16:13.208467Z",
     "iopub.status.idle": "2022-10-29T15:16:13.212624Z",
     "shell.execute_reply": "2022-10-29T15:16:13.211782Z"
    },
    "papermill": {
     "duration": 0.021652,
     "end_time": "2022-10-29T15:16:13.214716",
     "exception": false,
     "start_time": "2022-10-29T15:16:13.193064",
     "status": "completed"
    },
    "tags": []
   },
   "outputs": [],
   "source": [
    "### tokenized text length vs chunk size\n",
    "### chunk size - how many sentences we will join in one traning sample"
   ]
  },
  {
   "cell_type": "code",
   "execution_count": 32,
   "id": "f099e98b",
   "metadata": {
    "execution": {
     "iopub.execute_input": "2022-10-29T15:16:13.245015Z",
     "iopub.status.busy": "2022-10-29T15:16:13.244213Z",
     "iopub.status.idle": "2022-10-29T15:16:29.172990Z",
     "shell.execute_reply": "2022-10-29T15:16:29.172005Z"
    },
    "papermill": {
     "duration": 15.946495,
     "end_time": "2022-10-29T15:16:29.175492",
     "exception": false,
     "start_time": "2022-10-29T15:16:13.228997",
     "status": "completed"
    },
    "tags": []
   },
   "outputs": [
    {
     "name": "stderr",
     "output_type": "stream",
     "text": [
      "Token indices sequence length is longer than the specified maximum sequence length for this model (526 > 512). Running this sequence through the model will result in indexing errors\n"
     ]
    }
   ],
   "source": [
    "chunk_sizes = []\n",
    "mean_lengths = []\n",
    "max_lengths = []\n",
    "for chunk_size in range(1, 20, 2):\n",
    "    chunked_train_data = chunk_documents(documents=train_documents, chunk_size=chunk_size)\n",
    "    lengths_of_tok_texts = [len(tokenizer.tokenize(s, is_split_into_words=True, add_special_tokens=True)) for s in chunked_train_data[\"sentences\"]]\n",
    "    \n",
    "    chunk_sizes.append(chunk_size)\n",
    "    mean_lengths.append(sum(lengths_of_tok_texts)/len(lengths_of_tok_texts))\n",
    "    max_lengths.append(max(lengths_of_tok_texts))"
   ]
  },
  {
   "cell_type": "code",
   "execution_count": 33,
   "id": "840922f3",
   "metadata": {
    "execution": {
     "iopub.execute_input": "2022-10-29T15:16:29.206725Z",
     "iopub.status.busy": "2022-10-29T15:16:29.205819Z",
     "iopub.status.idle": "2022-10-29T15:16:29.407215Z",
     "shell.execute_reply": "2022-10-29T15:16:29.406347Z"
    },
    "papermill": {
     "duration": 0.218854,
     "end_time": "2022-10-29T15:16:29.409234",
     "exception": false,
     "start_time": "2022-10-29T15:16:29.190380",
     "status": "completed"
    },
    "tags": []
   },
   "outputs": [
    {
     "data": {
      "image/png": "[encoded data removed]",
      "text/plain": [
       "<Figure size 432x288 with 1 Axes>"
      ]
     },
     "metadata": {
      "needs_background": "light"
     },
     "output_type": "display_data"
    }
   ],
   "source": [
    "plt.plot(chunk_sizes, max_lengths)\n",
    "plt.grid()\n",
    "plt.xlabel(\"chunk size\")\n",
    "plt.ylabel(\"max length of tokenized text\")\n",
    "plt.title(\"length of tokenized text vs. chunk size\")\n",
    "plt.show()"
   ]
  },
  {
   "cell_type": "code",
   "execution_count": 34,
   "id": "fde57b27",
   "metadata": {
    "execution": {
     "iopub.execute_input": "2022-10-29T15:16:29.441028Z",
     "iopub.status.busy": "2022-10-29T15:16:29.440254Z",
     "iopub.status.idle": "2022-10-29T15:16:29.446181Z",
     "shell.execute_reply": "2022-10-29T15:16:29.444962Z"
    },
    "papermill": {
     "duration": 0.024132,
     "end_time": "2022-10-29T15:16:29.448647",
     "exception": false,
     "start_time": "2022-10-29T15:16:29.424515",
     "status": "completed"
    },
    "tags": []
   },
   "outputs": [
    {
     "name": "stdout",
     "output_type": "stream",
     "text": [
      "(1, 156) (3, 243) (5, 306) (7, 344) (9, 477) (11, 492) (13, 502) (15, 573) (17, 614) (19, 791)\n"
     ]
    }
   ],
   "source": [
    "print(*zip(chunk_sizes, max_lengths))"
   ]
  },
  {
   "cell_type": "code",
   "execution_count": 35,
   "id": "7b692fab",
   "metadata": {
    "execution": {
     "iopub.execute_input": "2022-10-29T15:16:29.480435Z",
     "iopub.status.busy": "2022-10-29T15:16:29.479661Z",
     "iopub.status.idle": "2022-10-29T15:16:29.484456Z",
     "shell.execute_reply": "2022-10-29T15:16:29.483609Z"
    },
    "papermill": {
     "duration": 0.022363,
     "end_time": "2022-10-29T15:16:29.486188",
     "exception": false,
     "start_time": "2022-10-29T15:16:29.463825",
     "status": "completed"
    },
    "tags": []
   },
   "outputs": [],
   "source": [
    "### Choice chunk size = 13 => max_length= 512\n",
    "chunk_size = 13\n",
    "max_length = 512"
   ]
  },
  {
   "cell_type": "markdown",
   "id": "4e0fc6a5",
   "metadata": {
    "papermill": {
     "duration": 0.014576,
     "end_time": "2022-10-29T15:16:29.515869",
     "exception": false,
     "start_time": "2022-10-29T15:16:29.501293",
     "status": "completed"
    },
    "tags": []
   },
   "source": [
    "# Train/test model"
   ]
  },
  {
   "cell_type": "markdown",
   "id": "40733fd3",
   "metadata": {
    "papermill": {
     "duration": 0.014566,
     "end_time": "2022-10-29T15:16:29.545388",
     "exception": false,
     "start_time": "2022-10-29T15:16:29.530822",
     "status": "completed"
    },
    "tags": []
   },
   "source": [
    "### Data preparation"
   ]
  },
  {
   "cell_type": "code",
   "execution_count": 36,
   "id": "9464915c",
   "metadata": {
    "execution": {
     "iopub.execute_input": "2022-10-29T15:16:29.576347Z",
     "iopub.status.busy": "2022-10-29T15:16:29.575605Z",
     "iopub.status.idle": "2022-10-29T15:16:29.604822Z",
     "shell.execute_reply": "2022-10-29T15:16:29.603883Z"
    },
    "papermill": {
     "duration": 0.046745,
     "end_time": "2022-10-29T15:16:29.606841",
     "exception": false,
     "start_time": "2022-10-29T15:16:29.560096",
     "status": "completed"
    },
    "tags": []
   },
   "outputs": [],
   "source": [
    "train_ch_data = chunk_documents(documents=train_documents, chunk_size=chunk_size)"
   ]
  },
  {
   "cell_type": "code",
   "execution_count": 37,
   "id": "8521a756",
   "metadata": {
    "execution": {
     "iopub.execute_input": "2022-10-29T15:16:29.638327Z",
     "iopub.status.busy": "2022-10-29T15:16:29.637462Z",
     "iopub.status.idle": "2022-10-29T15:16:29.643160Z",
     "shell.execute_reply": "2022-10-29T15:16:29.642352Z"
    },
    "papermill": {
     "duration": 0.023355,
     "end_time": "2022-10-29T15:16:29.645091",
     "exception": false,
     "start_time": "2022-10-29T15:16:29.621736",
     "status": "completed"
    },
    "tags": []
   },
   "outputs": [],
   "source": [
    "# Split train data to train_dataset, val_dataset. \n",
    "train_index, val_index = train_test_split(range(len(train_ch_data[\"sentences\"])), test_size=0.2, random_state=42)"
   ]
  },
  {
   "cell_type": "code",
   "execution_count": 38,
   "id": "7bc61d0a",
   "metadata": {
    "execution": {
     "iopub.execute_input": "2022-10-29T15:16:29.676331Z",
     "iopub.status.busy": "2022-10-29T15:16:29.675583Z",
     "iopub.status.idle": "2022-10-29T15:16:29.681530Z",
     "shell.execute_reply": "2022-10-29T15:16:29.680730Z"
    },
    "papermill": {
     "duration": 0.023644,
     "end_time": "2022-10-29T15:16:29.683411",
     "exception": false,
     "start_time": "2022-10-29T15:16:29.659767",
     "status": "completed"
    },
    "tags": []
   },
   "outputs": [],
   "source": [
    "val_ch_data = {\"sentences\":[train_ch_data[\"sentences\"][i] for i in val_index], \n",
    "               \"labels_per_sent\":[train_ch_data[\"labels_per_sent\"][i] for i in val_index]}\n",
    "\n",
    "train_ch_data = {\"sentences\":[train_ch_data[\"sentences\"][i] for i in train_index], \n",
    "                 \"labels_per_sent\":[train_ch_data[\"labels_per_sent\"][i] for i in train_index]}"
   ]
  },
  {
   "cell_type": "code",
   "execution_count": 39,
   "id": "d6e50de9",
   "metadata": {
    "execution": {
     "iopub.execute_input": "2022-10-29T15:16:29.714753Z",
     "iopub.status.busy": "2022-10-29T15:16:29.714017Z",
     "iopub.status.idle": "2022-10-29T15:16:29.719064Z",
     "shell.execute_reply": "2022-10-29T15:16:29.718305Z"
    },
    "papermill": {
     "duration": 0.022653,
     "end_time": "2022-10-29T15:16:29.720951",
     "exception": false,
     "start_time": "2022-10-29T15:16:29.698298",
     "status": "completed"
    },
    "tags": []
   },
   "outputs": [],
   "source": [
    "val_dataset = NERDataset(data=val_ch_data, tokenizer=tokenizer, max_length=max_length, tag_first_token=True, label_to_ind =label_to_ind)\n",
    "train_dataset = NERDataset(data=train_ch_data, tokenizer=tokenizer, max_length=max_length, tag_first_token=True, label_to_ind =label_to_ind)"
   ]
  },
  {
   "cell_type": "markdown",
   "id": "47d476e8",
   "metadata": {
    "papermill": {
     "duration": 0.014591,
     "end_time": "2022-10-29T15:16:29.750689",
     "exception": false,
     "start_time": "2022-10-29T15:16:29.736098",
     "status": "completed"
    },
    "tags": []
   },
   "source": [
    "### Train model"
   ]
  },
  {
   "cell_type": "code",
   "execution_count": 40,
   "id": "9ea5f3c1",
   "metadata": {
    "execution": {
     "iopub.execute_input": "2022-10-29T15:16:29.782144Z",
     "iopub.status.busy": "2022-10-29T15:16:29.781364Z",
     "iopub.status.idle": "2022-10-29T15:16:30.247899Z",
     "shell.execute_reply": "2022-10-29T15:16:30.246977Z"
    },
    "papermill": {
     "duration": 0.484753,
     "end_time": "2022-10-29T15:16:30.250234",
     "exception": false,
     "start_time": "2022-10-29T15:16:29.765481",
     "status": "completed"
    },
    "tags": []
   },
   "outputs": [],
   "source": [
    "config = AutoConfig.from_pretrained(model_name)\n",
    "config.update({\"id2label\": ind_to_label})\n",
    "config.update({\"label2id\": label_to_ind})"
   ]
  },
  {
   "cell_type": "code",
   "execution_count": 41,
   "id": "f2910030",
   "metadata": {
    "execution": {
     "iopub.execute_input": "2022-10-29T15:16:30.282431Z",
     "iopub.status.busy": "2022-10-29T15:16:30.281606Z",
     "iopub.status.idle": "2022-10-29T15:16:30.291176Z",
     "shell.execute_reply": "2022-10-29T15:16:30.290361Z"
    },
    "papermill": {
     "duration": 0.027443,
     "end_time": "2022-10-29T15:16:30.293138",
     "exception": false,
     "start_time": "2022-10-29T15:16:30.265695",
     "status": "completed"
    },
    "tags": []
   },
   "outputs": [],
   "source": [
    "def get_label(ind):\n",
    "    if ind == -100:\n",
    "        return \"UNK\"\n",
    "    return ind_to_label[ind]\n",
    "\n",
    "v_get_label = np.vectorize(get_label)\n",
    "    \n",
    "def get_predictions_targets_labels(logits, targets):\n",
    "    \n",
    "    predictions = v_get_label(np.argmax(logits, axis=2))\n",
    "    targets = v_get_label(targets)\n",
    "    \n",
    "    \n",
    "    filtered_predictions = []\n",
    "    filtered_targets = []\n",
    "    \n",
    "    for pred_sentence, target_sentence in zip(predictions, targets):\n",
    "\n",
    "        filtered_pairs = [[p,t] for p,t in zip(pred_sentence, target_sentence) if t!=\"UNK\"]\n",
    "        filtered_prediction = [p[0] for p in filtered_pairs]\n",
    "        filtered_target = [p[1] for p in filtered_pairs]\n",
    "\n",
    "        filtered_predictions.append(filtered_prediction)\n",
    "        filtered_targets.append(filtered_target)\n",
    "    \n",
    "    return filtered_predictions, filtered_targets\n",
    "\n",
    "\n",
    "# F1 scores for each type of entity that are based on 'strict' mode (sequences have to matcth strictly)\n",
    "def compute_metrics(eval_pred):\n",
    "    logits, targets = eval_pred\n",
    "    filtered_predictions, filtered_targets = get_predictions_targets_labels(logits, targets)\n",
    "    result = classification_report(y_true = filtered_targets, \n",
    "                                   y_pred=filtered_predictions,\n",
    "                                   output_dict=True, \n",
    "                                   mode=\"strict\", \n",
    "                                   scheme=IOB1)\n",
    "    return {f\"F1_{key}\":result[key][\"f1-score\"] for key in result}\n"
   ]
  },
  {
   "cell_type": "code",
   "execution_count": 42,
   "id": "33e4448c",
   "metadata": {
    "execution": {
     "iopub.execute_input": "2022-10-29T15:16:30.324747Z",
     "iopub.status.busy": "2022-10-29T15:16:30.323995Z",
     "iopub.status.idle": "2022-10-29T15:46:39.096335Z",
     "shell.execute_reply": "2022-10-29T15:46:39.095055Z"
    },
    "papermill": {
     "duration": 1808.800495,
     "end_time": "2022-10-29T15:46:39.108582",
     "exception": false,
     "start_time": "2022-10-29T15:16:30.308087",
     "status": "completed"
    },
    "tags": []
   },
   "outputs": [
    {
     "data": {
      "application/vnd.jupyter.widget-view+json": {
       "model_id": "f932fad537fa48c0b2f70cf427a57f9c",
       "version_major": 2,
       "version_minor": 0
      },
      "text/plain": [
       "Downloading:   0%|          | 0.00/1.52G [00:00<?, ?B/s]"
      ]
     },
     "metadata": {},
     "output_type": "display_data"
    },
    {
     "name": "stderr",
     "output_type": "stream",
     "text": [
      "Some weights of the model checkpoint at microsoft/deberta-large were not used when initializing DebertaForTokenClassification: ['lm_predictions.lm_head.LayerNorm.bias', 'lm_predictions.lm_head.dense.bias', 'deberta.embeddings.position_embeddings.weight', 'lm_predictions.lm_head.dense.weight', 'lm_predictions.lm_head.LayerNorm.weight', 'lm_predictions.lm_head.bias']\n",
      "- This IS expected if you are initializing DebertaForTokenClassification from the checkpoint of a model trained on another task or with another architecture (e.g. initializing a BertForSequenceClassification model from a BertForPreTraining model).\n",
      "- This IS NOT expected if you are initializing DebertaForTokenClassification from the checkpoint of a model that you expect to be exactly identical (initializing a BertForSequenceClassification model from a BertForSequenceClassification model).\n",
      "Some weights of DebertaForTokenClassification were not initialized from the model checkpoint at microsoft/deberta-large and are newly initialized: ['classifier.weight', 'classifier.bias']\n",
      "You should probably TRAIN this model on a down-stream task to be able to use it for predictions and inference.\n",
      "Using cuda_amp half precision backend\n",
      "/opt/conda/lib/python3.7/site-packages/transformers/optimization.py:310: FutureWarning: This implementation of AdamW is deprecated and will be removed in a future version. Use the PyTorch implementation torch.optim.AdamW instead, or set `no_deprecation_warning=True` to disable this warning\n",
      "  FutureWarning,\n",
      "***** Running training *****\n",
      "  Num examples = 1186\n",
      "  Num Epochs = 10\n",
      "  Instantaneous batch size per device = 2\n",
      "  Total train batch size (w. parallel, distributed & accumulation) = 32\n",
      "  Gradient Accumulation steps = 16\n",
      "  Total optimization steps = 370\n"
     ]
    },
    {
     "data": {
      "text/html": [
       "\n",
       "    <div>\n",
       "      \n",
       "      <progress value='370' max='370' style='width:300px; height:20px; vertical-align: middle;'></progress>\n",
       "      [370/370 29:11, Epoch 9/10]\n",
       "    </div>\n",
       "    <table border=\"1\" class=\"dataframe\">\n",
       "  <thead>\n",
       " <tr style=\"text-align: left;\">\n",
       "      <th>Epoch</th>\n",
       "      <th>Training Loss</th>\n",
       "      <th>Validation Loss</th>\n",
       "      <th>F1 Loc</th>\n",
       "      <th>F1 Misc</th>\n",
       "      <th>F1 Org</th>\n",
       "      <th>F1 Per</th>\n",
       "      <th>F1 Micro avg</th>\n",
       "      <th>F1 Macro avg</th>\n",
       "      <th>F1 Weighted avg</th>\n",
       "    </tr>\n",
       "  </thead>\n",
       "  <tbody>\n",
       "    <tr>\n",
       "      <td>0</td>\n",
       "      <td>0.729000</td>\n",
       "      <td>0.080734</td>\n",
       "      <td>0.912927</td>\n",
       "      <td>0.746617</td>\n",
       "      <td>0.851211</td>\n",
       "      <td>0.963203</td>\n",
       "      <td>0.884695</td>\n",
       "      <td>0.868490</td>\n",
       "      <td>0.886867</td>\n",
       "    </tr>\n",
       "    <tr>\n",
       "      <td>1</td>\n",
       "      <td>0.054300</td>\n",
       "      <td>0.046693</td>\n",
       "      <td>0.956229</td>\n",
       "      <td>0.869878</td>\n",
       "      <td>0.915571</td>\n",
       "      <td>0.968728</td>\n",
       "      <td>0.937264</td>\n",
       "      <td>0.927601</td>\n",
       "      <td>0.936592</td>\n",
       "    </tr>\n",
       "    <tr>\n",
       "      <td>2</td>\n",
       "      <td>0.029300</td>\n",
       "      <td>0.039536</td>\n",
       "      <td>0.967285</td>\n",
       "      <td>0.910230</td>\n",
       "      <td>0.934227</td>\n",
       "      <td>0.971715</td>\n",
       "      <td>0.951785</td>\n",
       "      <td>0.945864</td>\n",
       "      <td>0.951662</td>\n",
       "    </tr>\n",
       "    <tr>\n",
       "      <td>3</td>\n",
       "      <td>0.016100</td>\n",
       "      <td>0.037628</td>\n",
       "      <td>0.968919</td>\n",
       "      <td>0.910230</td>\n",
       "      <td>0.945607</td>\n",
       "      <td>0.968940</td>\n",
       "      <td>0.954318</td>\n",
       "      <td>0.948424</td>\n",
       "      <td>0.954160</td>\n",
       "    </tr>\n",
       "    <tr>\n",
       "      <td>4</td>\n",
       "      <td>0.010700</td>\n",
       "      <td>0.037774</td>\n",
       "      <td>0.970210</td>\n",
       "      <td>0.912065</td>\n",
       "      <td>0.950462</td>\n",
       "      <td>0.970609</td>\n",
       "      <td>0.956531</td>\n",
       "      <td>0.950837</td>\n",
       "      <td>0.956525</td>\n",
       "    </tr>\n",
       "    <tr>\n",
       "      <td>5</td>\n",
       "      <td>0.007900</td>\n",
       "      <td>0.039385</td>\n",
       "      <td>0.969409</td>\n",
       "      <td>0.917007</td>\n",
       "      <td>0.943286</td>\n",
       "      <td>0.971388</td>\n",
       "      <td>0.955445</td>\n",
       "      <td>0.950272</td>\n",
       "      <td>0.955494</td>\n",
       "    </tr>\n",
       "    <tr>\n",
       "      <td>6</td>\n",
       "      <td>0.006100</td>\n",
       "      <td>0.039896</td>\n",
       "      <td>0.969697</td>\n",
       "      <td>0.914169</td>\n",
       "      <td>0.944468</td>\n",
       "      <td>0.972451</td>\n",
       "      <td>0.955706</td>\n",
       "      <td>0.950196</td>\n",
       "      <td>0.955750</td>\n",
       "    </tr>\n",
       "    <tr>\n",
       "      <td>7</td>\n",
       "      <td>0.004800</td>\n",
       "      <td>0.041359</td>\n",
       "      <td>0.970847</td>\n",
       "      <td>0.922656</td>\n",
       "      <td>0.945652</td>\n",
       "      <td>0.971408</td>\n",
       "      <td>0.957400</td>\n",
       "      <td>0.952641</td>\n",
       "      <td>0.957394</td>\n",
       "    </tr>\n",
       "    <tr>\n",
       "      <td>8</td>\n",
       "      <td>0.003700</td>\n",
       "      <td>0.041986</td>\n",
       "      <td>0.971817</td>\n",
       "      <td>0.924232</td>\n",
       "      <td>0.946444</td>\n",
       "      <td>0.972143</td>\n",
       "      <td>0.958333</td>\n",
       "      <td>0.953659</td>\n",
       "      <td>0.958344</td>\n",
       "    </tr>\n",
       "    <tr>\n",
       "      <td>9</td>\n",
       "      <td>0.003000</td>\n",
       "      <td>0.042532</td>\n",
       "      <td>0.971467</td>\n",
       "      <td>0.923497</td>\n",
       "      <td>0.946444</td>\n",
       "      <td>0.971429</td>\n",
       "      <td>0.957908</td>\n",
       "      <td>0.953209</td>\n",
       "      <td>0.957915</td>\n",
       "    </tr>\n",
       "  </tbody>\n",
       "</table><p>"
      ],
      "text/plain": [
       "<IPython.core.display.HTML object>"
      ]
     },
     "metadata": {},
     "output_type": "display_data"
    },
    {
     "name": "stderr",
     "output_type": "stream",
     "text": [
      "***** Running Evaluation *****\n",
      "  Num examples = 297\n",
      "  Batch size = 2\n",
      "Saving model checkpoint to checkpoints/checkpoint-37\n",
      "Configuration saved in checkpoints/checkpoint-37/config.json\n",
      "Model weights saved in checkpoints/checkpoint-37/pytorch_model.bin\n",
      "tokenizer config file saved in checkpoints/checkpoint-37/tokenizer_config.json\n",
      "Special tokens file saved in checkpoints/checkpoint-37/special_tokens_map.json\n",
      "***** Running Evaluation *****\n",
      "  Num examples = 297\n",
      "  Batch size = 2\n",
      "Saving model checkpoint to checkpoints/checkpoint-74\n",
      "Configuration saved in checkpoints/checkpoint-74/config.json\n",
      "Model weights saved in checkpoints/checkpoint-74/pytorch_model.bin\n",
      "tokenizer config file saved in checkpoints/checkpoint-74/tokenizer_config.json\n",
      "Special tokens file saved in checkpoints/checkpoint-74/special_tokens_map.json\n",
      "***** Running Evaluation *****\n",
      "  Num examples = 297\n",
      "  Batch size = 2\n",
      "Saving model checkpoint to checkpoints/checkpoint-111\n",
      "Configuration saved in checkpoints/checkpoint-111/config.json\n",
      "Model weights saved in checkpoints/checkpoint-111/pytorch_model.bin\n",
      "tokenizer config file saved in checkpoints/checkpoint-111/tokenizer_config.json\n",
      "Special tokens file saved in checkpoints/checkpoint-111/special_tokens_map.json\n",
      "Deleting older checkpoint [checkpoints/checkpoint-37] due to args.save_total_limit\n",
      "***** Running Evaluation *****\n",
      "  Num examples = 297\n",
      "  Batch size = 2\n",
      "Saving model checkpoint to checkpoints/checkpoint-148\n",
      "Configuration saved in checkpoints/checkpoint-148/config.json\n",
      "Model weights saved in checkpoints/checkpoint-148/pytorch_model.bin\n",
      "tokenizer config file saved in checkpoints/checkpoint-148/tokenizer_config.json\n",
      "Special tokens file saved in checkpoints/checkpoint-148/special_tokens_map.json\n",
      "Deleting older checkpoint [checkpoints/checkpoint-74] due to args.save_total_limit\n",
      "***** Running Evaluation *****\n",
      "  Num examples = 297\n",
      "  Batch size = 2\n",
      "Saving model checkpoint to checkpoints/checkpoint-185\n",
      "Configuration saved in checkpoints/checkpoint-185/config.json\n",
      "Model weights saved in checkpoints/checkpoint-185/pytorch_model.bin\n",
      "tokenizer config file saved in checkpoints/checkpoint-185/tokenizer_config.json\n",
      "Special tokens file saved in checkpoints/checkpoint-185/special_tokens_map.json\n",
      "Deleting older checkpoint [checkpoints/checkpoint-111] due to args.save_total_limit\n",
      "***** Running Evaluation *****\n",
      "  Num examples = 297\n",
      "  Batch size = 2\n",
      "Saving model checkpoint to checkpoints/checkpoint-222\n",
      "Configuration saved in checkpoints/checkpoint-222/config.json\n",
      "Model weights saved in checkpoints/checkpoint-222/pytorch_model.bin\n",
      "tokenizer config file saved in checkpoints/checkpoint-222/tokenizer_config.json\n",
      "Special tokens file saved in checkpoints/checkpoint-222/special_tokens_map.json\n",
      "Deleting older checkpoint [checkpoints/checkpoint-185] due to args.save_total_limit\n",
      "***** Running Evaluation *****\n",
      "  Num examples = 297\n",
      "  Batch size = 2\n",
      "Saving model checkpoint to checkpoints/checkpoint-259\n",
      "Configuration saved in checkpoints/checkpoint-259/config.json\n",
      "Model weights saved in checkpoints/checkpoint-259/pytorch_model.bin\n",
      "tokenizer config file saved in checkpoints/checkpoint-259/tokenizer_config.json\n",
      "Special tokens file saved in checkpoints/checkpoint-259/special_tokens_map.json\n",
      "Deleting older checkpoint [checkpoints/checkpoint-222] due to args.save_total_limit\n",
      "***** Running Evaluation *****\n",
      "  Num examples = 297\n",
      "  Batch size = 2\n",
      "Saving model checkpoint to checkpoints/checkpoint-296\n",
      "Configuration saved in checkpoints/checkpoint-296/config.json\n",
      "Model weights saved in checkpoints/checkpoint-296/pytorch_model.bin\n",
      "tokenizer config file saved in checkpoints/checkpoint-296/tokenizer_config.json\n",
      "Special tokens file saved in checkpoints/checkpoint-296/special_tokens_map.json\n",
      "Deleting older checkpoint [checkpoints/checkpoint-259] due to args.save_total_limit\n",
      "***** Running Evaluation *****\n",
      "  Num examples = 297\n",
      "  Batch size = 2\n",
      "Saving model checkpoint to checkpoints/checkpoint-333\n",
      "Configuration saved in checkpoints/checkpoint-333/config.json\n",
      "Model weights saved in checkpoints/checkpoint-333/pytorch_model.bin\n",
      "tokenizer config file saved in checkpoints/checkpoint-333/tokenizer_config.json\n",
      "Special tokens file saved in checkpoints/checkpoint-333/special_tokens_map.json\n",
      "Deleting older checkpoint [checkpoints/checkpoint-296] due to args.save_total_limit\n",
      "***** Running Evaluation *****\n",
      "  Num examples = 297\n",
      "  Batch size = 2\n",
      "Saving model checkpoint to checkpoints/checkpoint-370\n",
      "Configuration saved in checkpoints/checkpoint-370/config.json\n",
      "Model weights saved in checkpoints/checkpoint-370/pytorch_model.bin\n",
      "tokenizer config file saved in checkpoints/checkpoint-370/tokenizer_config.json\n",
      "Special tokens file saved in checkpoints/checkpoint-370/special_tokens_map.json\n",
      "Deleting older checkpoint [checkpoints/checkpoint-333] due to args.save_total_limit\n",
      "\n",
      "\n",
      "Training completed. Do not forget to share your model on huggingface.co/models =)\n",
      "\n",
      "\n",
      "Loading best model from checkpoints/checkpoint-148 (score: 0.03762834891676903).\n",
      "tokenizer config file saved in ./saved_model/tokenizer_config.json\n",
      "Special tokens file saved in ./saved_model/special_tokens_map.json\n",
      "Configuration saved in ./saved_model/config.json\n",
      "Model weights saved in ./saved_model/pytorch_model.bin\n"
     ]
    }
   ],
   "source": [
    "path_saved_model = \"./saved_model\"\n",
    "\n",
    "collator = DataCollatorForTokenClassification(tokenizer = tokenizer, padding = \"longest\")\n",
    "model = AutoModelForTokenClassification.from_pretrained(model_name, config=config)\n",
    "args = TrainingArguments(report_to=\"none\",\n",
    "                        output_dir=f\"checkpoints\",\n",
    "                        evaluation_strategy = \"epoch\",\n",
    "                        save_strategy   = \"epoch\",\n",
    "                        save_total_limit = 2,\n",
    "                        metric_for_best_model = \"loss\",\n",
    "                        greater_is_better = False,\n",
    "                        load_best_model_at_end = True,\n",
    "\n",
    "                        fp16 = True,\n",
    "                        logging_strategy = \"epoch\",\n",
    "                        learning_rate = 5e-5,\n",
    "                        warmup_ratio = 0.1,\n",
    "                        per_device_train_batch_size = 2,\n",
    "                        per_device_eval_batch_size = 2,\n",
    "                        num_train_epochs = 10,\n",
    "                        weight_decay = 0.01,\n",
    "                        gradient_accumulation_steps = 16,\n",
    "                        max_grad_norm  = 1.0, \n",
    "                        group_by_length =True,\n",
    "                        seed = 42,\n",
    "\n",
    "                        label_names = [\"labels\"])\n",
    "\n",
    "trainer = Trainer(model,\n",
    "                  args,\n",
    "                  train_dataset=train_dataset,\n",
    "                  eval_dataset=val_dataset,\n",
    "                  data_collator=collator,\n",
    "                  tokenizer=tokenizer,\n",
    "                  compute_metrics=compute_metrics\n",
    "                  )\n",
    "\n",
    "trainer.train()\n",
    "\n",
    "tokenizer.save_pretrained(path_saved_model)\n",
    "model.save_pretrained(path_saved_model)\n",
    "\n",
    "\n",
    "# del model, tokenizer\n",
    "# gc.collect()"
   ]
  },
  {
   "cell_type": "markdown",
   "id": "a6b82547",
   "metadata": {
    "papermill": {
     "duration": 0.075846,
     "end_time": "2022-10-29T15:46:39.371582",
     "exception": false,
     "start_time": "2022-10-29T15:46:39.295736",
     "status": "completed"
    },
    "tags": []
   },
   "source": [
    "### Model validation "
   ]
  },
  {
   "cell_type": "code",
   "execution_count": 43,
   "id": "c7ef384d",
   "metadata": {
    "execution": {
     "iopub.execute_input": "2022-10-29T15:46:39.541763Z",
     "iopub.status.busy": "2022-10-29T15:46:39.541092Z",
     "iopub.status.idle": "2022-10-29T15:46:55.638772Z",
     "shell.execute_reply": "2022-10-29T15:46:55.637390Z"
    },
    "papermill": {
     "duration": 16.17488,
     "end_time": "2022-10-29T15:46:55.640924",
     "exception": false,
     "start_time": "2022-10-29T15:46:39.466044",
     "status": "completed"
    },
    "tags": []
   },
   "outputs": [
    {
     "name": "stderr",
     "output_type": "stream",
     "text": [
      "***** Running Prediction *****\n",
      "  Num examples = 297\n",
      "  Batch size = 2\n"
     ]
    },
    {
     "data": {
      "text/html": [
       "\n",
       "    <div>\n",
       "      \n",
       "      <progress value='322' max='149' style='width:300px; height:20px; vertical-align: middle;'></progress>\n",
       "      [149/149 00:34]\n",
       "    </div>\n",
       "    "
      ],
      "text/plain": [
       "<IPython.core.display.HTML object>"
      ]
     },
     "metadata": {},
     "output_type": "display_data"
    },
    {
     "name": "stdout",
     "output_type": "stream",
     "text": [
      "Classification report for VALIDATION data:\n",
      "\n",
      "              precision    recall  f1-score   support\n",
      "\n",
      "         LOC     0.9663    0.9715    0.9689      1476\n",
      "        MISC     0.9356    0.8862    0.9102       738\n",
      "         ORG     0.9385    0.9528    0.9456      1186\n",
      "         PER     0.9728    0.9651    0.9689      1406\n",
      "\n",
      "   micro avg     0.9567    0.9519    0.9543      4806\n",
      "   macro avg     0.9533    0.9439    0.9484      4806\n",
      "weighted avg     0.9566    0.9519    0.9542      4806\n",
      "\n"
     ]
    }
   ],
   "source": [
    "# print VALIDATION performance report for the best model\n",
    "val_outputs = trainer.predict(val_dataset)\n",
    "val_predictions = val_outputs.predictions\n",
    "val_targets = val_outputs.label_ids\n",
    "val_f_pedictions, val_f_targets = get_predictions_targets_labels(logits=val_predictions, targets=val_targets)\n",
    "\n",
    "print(\"Classification report for VALIDATION data:\")\n",
    "print()\n",
    "print(classification_report(y_true=val_f_targets, \n",
    "                            y_pred=val_f_pedictions, \n",
    "                            digits=4, \n",
    "                            mode=\"strict\", \n",
    "                            scheme=IOB1))"
   ]
  },
  {
   "cell_type": "code",
   "execution_count": 44,
   "id": "deb3e3a9",
   "metadata": {
    "execution": {
     "iopub.execute_input": "2022-10-29T15:46:55.684893Z",
     "iopub.status.busy": "2022-10-29T15:46:55.683406Z",
     "iopub.status.idle": "2022-10-29T15:46:55.898057Z",
     "shell.execute_reply": "2022-10-29T15:46:55.897013Z"
    },
    "papermill": {
     "duration": 0.238241,
     "end_time": "2022-10-29T15:46:55.900371",
     "exception": false,
     "start_time": "2022-10-29T15:46:55.662130",
     "status": "completed"
    },
    "tags": []
   },
   "outputs": [
    {
     "name": "stdout",
     "output_type": "stream",
     "text": [
      "Confusion matrix by tags for VALIDATION data:\n",
      "\n"
     ]
    },
    {
     "data": {
      "text/html": [
       "<div>\n",
       "<style scoped>\n",
       "    .dataframe tbody tr th:only-of-type {\n",
       "        vertical-align: middle;\n",
       "    }\n",
       "\n",
       "    .dataframe tbody tr th {\n",
       "        vertical-align: top;\n",
       "    }\n",
       "\n",
       "    .dataframe thead th {\n",
       "        text-align: right;\n",
       "    }\n",
       "</style>\n",
       "<table border=\"1\" class=\"dataframe\">\n",
       "  <thead>\n",
       "    <tr style=\"text-align: right;\">\n",
       "      <th></th>\n",
       "      <th>O</th>\n",
       "      <th>I-PER</th>\n",
       "      <th>I-ORG</th>\n",
       "      <th>I-LOC</th>\n",
       "      <th>I-MISC</th>\n",
       "      <th>B-MISC</th>\n",
       "      <th>B-ORG</th>\n",
       "      <th>B-LOC</th>\n",
       "      <th>B-PER</th>\n",
       "    </tr>\n",
       "  </thead>\n",
       "  <tbody>\n",
       "    <tr>\n",
       "      <th>O</th>\n",
       "      <td>33314</td>\n",
       "      <td>14</td>\n",
       "      <td>34</td>\n",
       "      <td>12</td>\n",
       "      <td>18</td>\n",
       "      <td>0</td>\n",
       "      <td>0</td>\n",
       "      <td>0</td>\n",
       "      <td>0</td>\n",
       "    </tr>\n",
       "    <tr>\n",
       "      <th>I-PER</th>\n",
       "      <td>5</td>\n",
       "      <td>2293</td>\n",
       "      <td>11</td>\n",
       "      <td>5</td>\n",
       "      <td>4</td>\n",
       "      <td>0</td>\n",
       "      <td>0</td>\n",
       "      <td>0</td>\n",
       "      <td>0</td>\n",
       "    </tr>\n",
       "    <tr>\n",
       "      <th>I-ORG</th>\n",
       "      <td>19</td>\n",
       "      <td>8</td>\n",
       "      <td>1823</td>\n",
       "      <td>20</td>\n",
       "      <td>11</td>\n",
       "      <td>0</td>\n",
       "      <td>0</td>\n",
       "      <td>0</td>\n",
       "      <td>0</td>\n",
       "    </tr>\n",
       "    <tr>\n",
       "      <th>I-LOC</th>\n",
       "      <td>5</td>\n",
       "      <td>2</td>\n",
       "      <td>32</td>\n",
       "      <td>1664</td>\n",
       "      <td>9</td>\n",
       "      <td>0</td>\n",
       "      <td>0</td>\n",
       "      <td>0</td>\n",
       "      <td>0</td>\n",
       "    </tr>\n",
       "    <tr>\n",
       "      <th>I-MISC</th>\n",
       "      <td>34</td>\n",
       "      <td>7</td>\n",
       "      <td>17</td>\n",
       "      <td>15</td>\n",
       "      <td>893</td>\n",
       "      <td>0</td>\n",
       "      <td>0</td>\n",
       "      <td>0</td>\n",
       "      <td>0</td>\n",
       "    </tr>\n",
       "    <tr>\n",
       "      <th>B-MISC</th>\n",
       "      <td>0</td>\n",
       "      <td>0</td>\n",
       "      <td>0</td>\n",
       "      <td>0</td>\n",
       "      <td>11</td>\n",
       "      <td>3</td>\n",
       "      <td>0</td>\n",
       "      <td>0</td>\n",
       "      <td>0</td>\n",
       "    </tr>\n",
       "    <tr>\n",
       "      <th>B-ORG</th>\n",
       "      <td>1</td>\n",
       "      <td>0</td>\n",
       "      <td>3</td>\n",
       "      <td>1</td>\n",
       "      <td>0</td>\n",
       "      <td>0</td>\n",
       "      <td>0</td>\n",
       "      <td>0</td>\n",
       "      <td>0</td>\n",
       "    </tr>\n",
       "    <tr>\n",
       "      <th>B-LOC</th>\n",
       "      <td>0</td>\n",
       "      <td>0</td>\n",
       "      <td>0</td>\n",
       "      <td>2</td>\n",
       "      <td>0</td>\n",
       "      <td>0</td>\n",
       "      <td>0</td>\n",
       "      <td>0</td>\n",
       "      <td>0</td>\n",
       "    </tr>\n",
       "    <tr>\n",
       "      <th>B-PER</th>\n",
       "      <td>0</td>\n",
       "      <td>9</td>\n",
       "      <td>0</td>\n",
       "      <td>0</td>\n",
       "      <td>0</td>\n",
       "      <td>0</td>\n",
       "      <td>0</td>\n",
       "      <td>0</td>\n",
       "      <td>0</td>\n",
       "    </tr>\n",
       "  </tbody>\n",
       "</table>\n",
       "</div>"
      ],
      "text/plain": [
       "            O  I-PER  I-ORG  I-LOC  I-MISC  B-MISC  B-ORG  B-LOC  B-PER\n",
       "O       33314     14     34     12      18       0      0      0      0\n",
       "I-PER       5   2293     11      5       4       0      0      0      0\n",
       "I-ORG      19      8   1823     20      11       0      0      0      0\n",
       "I-LOC       5      2     32   1664       9       0      0      0      0\n",
       "I-MISC     34      7     17     15     893       0      0      0      0\n",
       "B-MISC      0      0      0      0      11       3      0      0      0\n",
       "B-ORG       1      0      3      1       0       0      0      0      0\n",
       "B-LOC       0      0      0      2       0       0      0      0      0\n",
       "B-PER       0      9      0      0       0       0      0      0      0"
      ]
     },
     "execution_count": 44,
     "metadata": {},
     "output_type": "execute_result"
    }
   ],
   "source": [
    "# VALIDATION confusion matrix by tags\n",
    "cnf_matrix_val = confusion_matrix(y_true = sum(val_f_targets,[]), y_pred=sum(val_f_pedictions, []), labels = sorted_keys)\n",
    "cnf_matrix_val = {sorted_keys[i]:cnf_matrix_val[:,i] for i,k in enumerate(sorted_keys)}\n",
    "\n",
    "cnf_pd_val = pd.DataFrame(data=cnf_matrix_val)\n",
    "cnf_pd_val.index = sorted_keys\n",
    "\n",
    "print(\"Confusion matrix by tags for VALIDATION data:\")\n",
    "print()\n",
    "cnf_pd_val"
   ]
  },
  {
   "cell_type": "code",
   "execution_count": 45,
   "id": "ad8bb761",
   "metadata": {
    "execution": {
     "iopub.execute_input": "2022-10-29T15:46:55.943977Z",
     "iopub.status.busy": "2022-10-29T15:46:55.943654Z",
     "iopub.status.idle": "2022-10-29T15:46:56.390027Z",
     "shell.execute_reply": "2022-10-29T15:46:56.388898Z"
    },
    "papermill": {
     "duration": 0.470734,
     "end_time": "2022-10-29T15:46:56.392442",
     "exception": false,
     "start_time": "2022-10-29T15:46:55.921708",
     "status": "completed"
    },
    "tags": []
   },
   "outputs": [
    {
     "name": "stdout",
     "output_type": "stream",
     "text": [
      "Classification report by tags for VALIDATION data:\n",
      "\n",
      "              precision    recall  f1-score   support\n",
      "\n",
      "           O       1.00      1.00      1.00     33392\n",
      "       I-PER       0.98      0.99      0.99      2318\n",
      "       I-ORG       0.95      0.97      0.96      1881\n",
      "       I-LOC       0.97      0.97      0.97      1712\n",
      "      I-MISC       0.94      0.92      0.93       966\n",
      "      B-MISC       1.00      0.21      0.35        14\n",
      "       B-ORG       1.00      0.00      0.00         5\n",
      "       B-LOC       1.00      0.00      0.00         2\n",
      "       B-PER       1.00      0.00      0.00         9\n",
      "\n",
      "    accuracy                           0.99     40299\n",
      "   macro avg       0.98      0.56      0.58     40299\n",
      "weighted avg       0.99      0.99      0.99     40299\n",
      "\n"
     ]
    }
   ],
   "source": [
    "print(\"Classification report by tags for VALIDATION data:\")\n",
    "print()\n",
    "print(sk_classification_report(y_true = sum(val_f_targets,[]), \n",
    "                               y_pred=sum(val_f_pedictions, []), \n",
    "                               labels = sorted_keys, \n",
    "                               zero_division=1))"
   ]
  },
  {
   "cell_type": "markdown",
   "id": "b82203b9",
   "metadata": {
    "papermill": {
     "duration": 0.022237,
     "end_time": "2022-10-29T15:46:56.436896",
     "exception": false,
     "start_time": "2022-10-29T15:46:56.414659",
     "status": "completed"
    },
    "tags": []
   },
   "source": [
    "### Evaluate metrics on test data"
   ]
  },
  {
   "cell_type": "code",
   "execution_count": 46,
   "id": "4a195b2c",
   "metadata": {
    "execution": {
     "iopub.execute_input": "2022-10-29T15:46:56.480453Z",
     "iopub.status.busy": "2022-10-29T15:46:56.480116Z",
     "iopub.status.idle": "2022-10-29T15:47:16.463001Z",
     "shell.execute_reply": "2022-10-29T15:47:16.460810Z"
    },
    "papermill": {
     "duration": 20.007379,
     "end_time": "2022-10-29T15:47:16.465180",
     "exception": false,
     "start_time": "2022-10-29T15:46:56.457801",
     "status": "completed"
    },
    "tags": []
   },
   "outputs": [
    {
     "name": "stderr",
     "output_type": "stream",
     "text": [
      "***** Running Prediction *****\n",
      "  Num examples = 345\n",
      "  Batch size = 2\n"
     ]
    },
    {
     "name": "stdout",
     "output_type": "stream",
     "text": [
      "Confusion matrix for TEST data:\n",
      "\n",
      "              precision    recall  f1-score   support\n",
      "\n",
      "         LOC     0.9724    0.9777    0.9750      1837\n",
      "        MISC     0.9038    0.8970    0.9004       922\n",
      "         ORG     0.9542    0.9627    0.9584      1341\n",
      "         PER     0.9770    0.9787    0.9779      1827\n",
      "\n",
      "   micro avg     0.9591    0.9620    0.9606      5927\n",
      "   macro avg     0.9519    0.9540    0.9529      5927\n",
      "weighted avg     0.9590    0.9620    0.9605      5927\n",
      "\n"
     ]
    }
   ],
   "source": [
    "# print TEST performance report for the best model\n",
    "test_ch_data = chunk_documents(documents=test_documents, chunk_size=chunk_size)\n",
    "test_dataset = NERDataset(data=test_ch_data, \n",
    "                          tokenizer=tokenizer, \n",
    "                          max_length=512, \n",
    "                          tag_first_token=True, label_to_ind=label_to_ind)\n",
    "test_outputs = trainer.predict(test_dataset)\n",
    "test_predictions = test_outputs.predictions\n",
    "test_targets = test_outputs.label_ids\n",
    "test_f_pedictions, test_f_targets = get_predictions_targets_labels(logits=test_predictions, targets=test_targets)\n",
    "\n",
    "print(\"Confusion matrix for TEST data:\")\n",
    "print()\n",
    "print(classification_report(y_true=test_f_targets, \n",
    "                            y_pred=test_f_pedictions, \n",
    "                            digits=4, \n",
    "                            mode=\"strict\", \n",
    "                            scheme=IOB1))"
   ]
  },
  {
   "cell_type": "code",
   "execution_count": 47,
   "id": "4b5463e5",
   "metadata": {
    "execution": {
     "iopub.execute_input": "2022-10-29T15:47:16.509904Z",
     "iopub.status.busy": "2022-10-29T15:47:16.509603Z",
     "iopub.status.idle": "2022-10-29T15:47:16.767063Z",
     "shell.execute_reply": "2022-10-29T15:47:16.765488Z"
    },
    "papermill": {
     "duration": 0.2827,
     "end_time": "2022-10-29T15:47:16.769603",
     "exception": false,
     "start_time": "2022-10-29T15:47:16.486903",
     "status": "completed"
    },
    "tags": []
   },
   "outputs": [
    {
     "name": "stdout",
     "output_type": "stream",
     "text": [
      "Confusion matrix by tags for TEST data:\n",
      "\n"
     ]
    },
    {
     "data": {
      "text/html": [
       "<div>\n",
       "<style scoped>\n",
       "    .dataframe tbody tr th:only-of-type {\n",
       "        vertical-align: middle;\n",
       "    }\n",
       "\n",
       "    .dataframe tbody tr th {\n",
       "        vertical-align: top;\n",
       "    }\n",
       "\n",
       "    .dataframe thead th {\n",
       "        text-align: right;\n",
       "    }\n",
       "</style>\n",
       "<table border=\"1\" class=\"dataframe\">\n",
       "  <thead>\n",
       "    <tr style=\"text-align: right;\">\n",
       "      <th></th>\n",
       "      <th>O</th>\n",
       "      <th>I-PER</th>\n",
       "      <th>I-ORG</th>\n",
       "      <th>I-LOC</th>\n",
       "      <th>I-MISC</th>\n",
       "      <th>B-MISC</th>\n",
       "      <th>B-ORG</th>\n",
       "      <th>B-LOC</th>\n",
       "      <th>B-PER</th>\n",
       "    </tr>\n",
       "  </thead>\n",
       "  <tbody>\n",
       "    <tr>\n",
       "      <th>O</th>\n",
       "      <td>42619</td>\n",
       "      <td>13</td>\n",
       "      <td>28</td>\n",
       "      <td>10</td>\n",
       "      <td>33</td>\n",
       "      <td>0</td>\n",
       "      <td>0</td>\n",
       "      <td>0</td>\n",
       "      <td>0</td>\n",
       "    </tr>\n",
       "    <tr>\n",
       "      <th>I-PER</th>\n",
       "      <td>8</td>\n",
       "      <td>3089</td>\n",
       "      <td>4</td>\n",
       "      <td>2</td>\n",
       "      <td>4</td>\n",
       "      <td>0</td>\n",
       "      <td>0</td>\n",
       "      <td>0</td>\n",
       "      <td>0</td>\n",
       "    </tr>\n",
       "    <tr>\n",
       "      <th>I-ORG</th>\n",
       "      <td>3</td>\n",
       "      <td>6</td>\n",
       "      <td>2025</td>\n",
       "      <td>21</td>\n",
       "      <td>37</td>\n",
       "      <td>0</td>\n",
       "      <td>0</td>\n",
       "      <td>0</td>\n",
       "      <td>0</td>\n",
       "    </tr>\n",
       "    <tr>\n",
       "      <th>I-LOC</th>\n",
       "      <td>2</td>\n",
       "      <td>2</td>\n",
       "      <td>14</td>\n",
       "      <td>2060</td>\n",
       "      <td>10</td>\n",
       "      <td>0</td>\n",
       "      <td>0</td>\n",
       "      <td>0</td>\n",
       "      <td>0</td>\n",
       "    </tr>\n",
       "    <tr>\n",
       "      <th>I-MISC</th>\n",
       "      <td>40</td>\n",
       "      <td>7</td>\n",
       "      <td>19</td>\n",
       "      <td>19</td>\n",
       "      <td>1171</td>\n",
       "      <td>0</td>\n",
       "      <td>0</td>\n",
       "      <td>0</td>\n",
       "      <td>0</td>\n",
       "    </tr>\n",
       "    <tr>\n",
       "      <th>B-MISC</th>\n",
       "      <td>0</td>\n",
       "      <td>0</td>\n",
       "      <td>0</td>\n",
       "      <td>1</td>\n",
       "      <td>7</td>\n",
       "      <td>4</td>\n",
       "      <td>0</td>\n",
       "      <td>0</td>\n",
       "      <td>0</td>\n",
       "    </tr>\n",
       "    <tr>\n",
       "      <th>B-ORG</th>\n",
       "      <td>0</td>\n",
       "      <td>0</td>\n",
       "      <td>0</td>\n",
       "      <td>0</td>\n",
       "      <td>0</td>\n",
       "      <td>0</td>\n",
       "      <td>0</td>\n",
       "      <td>0</td>\n",
       "      <td>0</td>\n",
       "    </tr>\n",
       "    <tr>\n",
       "      <th>B-LOC</th>\n",
       "      <td>0</td>\n",
       "      <td>0</td>\n",
       "      <td>0</td>\n",
       "      <td>6</td>\n",
       "      <td>0</td>\n",
       "      <td>0</td>\n",
       "      <td>0</td>\n",
       "      <td>0</td>\n",
       "      <td>0</td>\n",
       "    </tr>\n",
       "    <tr>\n",
       "      <th>B-PER</th>\n",
       "      <td>0</td>\n",
       "      <td>10</td>\n",
       "      <td>0</td>\n",
       "      <td>0</td>\n",
       "      <td>0</td>\n",
       "      <td>0</td>\n",
       "      <td>0</td>\n",
       "      <td>0</td>\n",
       "      <td>0</td>\n",
       "    </tr>\n",
       "  </tbody>\n",
       "</table>\n",
       "</div>"
      ],
      "text/plain": [
       "            O  I-PER  I-ORG  I-LOC  I-MISC  B-MISC  B-ORG  B-LOC  B-PER\n",
       "O       42619     13     28     10      33       0      0      0      0\n",
       "I-PER       8   3089      4      2       4       0      0      0      0\n",
       "I-ORG       3      6   2025     21      37       0      0      0      0\n",
       "I-LOC       2      2     14   2060      10       0      0      0      0\n",
       "I-MISC     40      7     19     19    1171       0      0      0      0\n",
       "B-MISC      0      0      0      1       7       4      0      0      0\n",
       "B-ORG       0      0      0      0       0       0      0      0      0\n",
       "B-LOC       0      0      0      6       0       0      0      0      0\n",
       "B-PER       0     10      0      0       0       0      0      0      0"
      ]
     },
     "execution_count": 47,
     "metadata": {},
     "output_type": "execute_result"
    }
   ],
   "source": [
    "# TEST confusion matrix by tags\n",
    "cnf_matrix_test = confusion_matrix(y_true = sum(test_f_targets,[]), y_pred=sum(test_f_pedictions, []), labels = sorted_keys)\n",
    "cnf_matrix_test = {sorted_keys[i]:cnf_matrix_test[:,i] for i,k in enumerate(sorted_keys)}\n",
    "\n",
    "cnf_pd_test = pd.DataFrame(data=cnf_matrix_test)\n",
    "cnf_pd_test.index = sorted_keys\n",
    "\n",
    "print(\"Confusion matrix by tags for TEST data:\")\n",
    "print()\n",
    "cnf_pd_test"
   ]
  },
  {
   "cell_type": "code",
   "execution_count": 48,
   "id": "c7141106",
   "metadata": {
    "execution": {
     "iopub.execute_input": "2022-10-29T15:47:16.814985Z",
     "iopub.status.busy": "2022-10-29T15:47:16.814135Z",
     "iopub.status.idle": "2022-10-29T15:47:17.406775Z",
     "shell.execute_reply": "2022-10-29T15:47:17.405003Z"
    },
    "papermill": {
     "duration": 0.617024,
     "end_time": "2022-10-29T15:47:17.408890",
     "exception": false,
     "start_time": "2022-10-29T15:47:16.791866",
     "status": "completed"
    },
    "tags": []
   },
   "outputs": [
    {
     "name": "stdout",
     "output_type": "stream",
     "text": [
      "Classification report by tags for TEST data:\n",
      "\n",
      "              precision    recall  f1-score   support\n",
      "\n",
      "           O       1.00      1.00      1.00     42703\n",
      "       I-PER       0.99      0.99      0.99      3107\n",
      "       I-ORG       0.97      0.97      0.97      2092\n",
      "       I-LOC       0.97      0.99      0.98      2088\n",
      "      I-MISC       0.93      0.93      0.93      1256\n",
      "      B-MISC       1.00      0.33      0.50        12\n",
      "       B-ORG       1.00      1.00      1.00         0\n",
      "       B-LOC       1.00      0.00      0.00         6\n",
      "       B-PER       1.00      0.00      0.00        10\n",
      "\n",
      "   micro avg       0.99      0.99      0.99     51274\n",
      "   macro avg       0.98      0.69      0.71     51274\n",
      "weighted avg       0.99      0.99      0.99     51274\n",
      "\n"
     ]
    }
   ],
   "source": [
    "print(\"Classification report by tags for TEST data:\")\n",
    "print()\n",
    "print(sk_classification_report(y_true = sum(test_f_targets,[]), \n",
    "                               y_pred=sum(test_f_pedictions, []), \n",
    "                               labels = sorted_keys, \n",
    "                               zero_division=1))"
   ]
  },
  {
   "cell_type": "code",
   "execution_count": 49,
   "id": "8cc8195c",
   "metadata": {
    "execution": {
     "iopub.execute_input": "2022-10-29T15:47:17.454040Z",
     "iopub.status.busy": "2022-10-29T15:47:17.453738Z",
     "iopub.status.idle": "2022-10-29T15:47:17.457745Z",
     "shell.execute_reply": "2022-10-29T15:47:17.456789Z"
    },
    "papermill": {
     "duration": 0.028314,
     "end_time": "2022-10-29T15:47:17.459644",
     "exception": false,
     "start_time": "2022-10-29T15:47:17.431330",
     "status": "completed"
    },
    "tags": []
   },
   "outputs": [],
   "source": [
    "### Conclusion: the most of mispredictions between (\"O\", \"I-MISK\"), (I-MISC, I-ORG),(I-MISC, I-LOC)\n",
    "### We have a few B-YYY tags, that is why the model can't predict them"
   ]
  },
  {
   "cell_type": "markdown",
   "id": "512cc21a",
   "metadata": {
    "papermill": {
     "duration": 0.021694,
     "end_time": "2022-10-29T15:47:17.503094",
     "exception": false,
     "start_time": "2022-10-29T15:47:17.481400",
     "status": "completed"
    },
    "tags": []
   },
   "source": [
    "### Analyse prediction errors"
   ]
  },
  {
   "cell_type": "code",
   "execution_count": 50,
   "id": "6cabd9d8",
   "metadata": {
    "execution": {
     "iopub.execute_input": "2022-10-29T15:47:17.547437Z",
     "iopub.status.busy": "2022-10-29T15:47:17.547146Z",
     "iopub.status.idle": "2022-10-29T15:47:18.009024Z",
     "shell.execute_reply": "2022-10-29T15:47:18.007665Z"
    },
    "papermill": {
     "duration": 0.487351,
     "end_time": "2022-10-29T15:47:18.012061",
     "exception": false,
     "start_time": "2022-10-29T15:47:17.524710",
     "status": "completed"
    },
    "tags": []
   },
   "outputs": [],
   "source": [
    "def convert_tokens_to_words(sentences, tokenizer, logits, ind_to_label, max_length):\n",
    "    \n",
    "    predictions_tokens = v_get_label(np.argmax(logits, axis=2))\n",
    "    predictions = []\n",
    "    \n",
    "    for i, sentence in enumerate(sentences):\n",
    "        \n",
    "        preds_of_sent = [\"NONE\"]*len(sentence)\n",
    "        encoded_sentence = tokenizer(sentence, \n",
    "                                     truncation=True, \n",
    "                                     max_length=logits.shape[1], \n",
    "                                     is_split_into_words=True)\n",
    "        \n",
    "        for j, word_id in enumerate(encoded_sentence.word_ids()):\n",
    "            if word_id is not None:\n",
    "                if preds_of_sent[word_id]==\"NONE\": \n",
    "                    preds_of_sent[word_id]=predictions_tokens[i][j]\n",
    "                    \n",
    "        predictions.append(preds_of_sent)\n",
    "    return predictions\n",
    "\n",
    "test_word_tags = convert_tokens_to_words(sentences=test_ch_data[\"sentences\"], \n",
    "                                         tokenizer=tokenizer, \n",
    "                                         logits=test_predictions, \n",
    "                                         ind_to_label=ind_to_label, \n",
    "                                         max_length=max_length)"
   ]
  },
  {
   "cell_type": "code",
   "execution_count": 51,
   "id": "61cc60b4",
   "metadata": {
    "execution": {
     "iopub.execute_input": "2022-10-29T15:47:18.061700Z",
     "iopub.status.busy": "2022-10-29T15:47:18.060761Z",
     "iopub.status.idle": "2022-10-29T15:47:18.113870Z",
     "shell.execute_reply": "2022-10-29T15:47:18.112951Z"
    },
    "papermill": {
     "duration": 0.080264,
     "end_time": "2022-10-29T15:47:18.115972",
     "exception": false,
     "start_time": "2022-10-29T15:47:18.035708",
     "status": "completed"
    },
    "tags": []
   },
   "outputs": [
    {
     "name": "stdout",
     "output_type": "stream",
     "text": [
      "targets:\n"
     ]
    },
    {
     "data": {
      "text/html": [
       "<span class=\"tex2jax_ignore\"><div class=\"entities\" style=\"line-height: 2.5; direction: ltr\">Results of \n",
       "<mark class=\"entity\" style=\"background: #ddd; padding: 0.45em 0.6em; margin: 0 0.25em; line-height: 1; border-radius: 0.35em;\">\n",
       "    Major League\n",
       "    <span style=\"font-size: 0.8em; font-weight: bold; line-height: 1; border-radius: 0.35em; vertical-align: middle; margin-left: 0.5rem\">MISC</span>\n",
       "</mark>\n",
       " Baseball games played on</div></span>"
      ],
      "text/plain": [
       "<IPython.core.display.HTML object>"
      ]
     },
     "metadata": {},
     "output_type": "display_data"
    },
    {
     "name": "stdout",
     "output_type": "stream",
     "text": [
      "predictions:\n"
     ]
    },
    {
     "data": {
      "text/html": [
       "<span class=\"tex2jax_ignore\"><div class=\"entities\" style=\"line-height: 2.5; direction: ltr\">Results of \n",
       "<mark class=\"entity\" style=\"background: #ddd; padding: 0.45em 0.6em; margin: 0 0.25em; line-height: 1; border-radius: 0.35em;\">\n",
       "    Major League Baseball\n",
       "    <span style=\"font-size: 0.8em; font-weight: bold; line-height: 1; border-radius: 0.35em; vertical-align: middle; margin-left: 0.5rem\">MISC</span>\n",
       "</mark>\n",
       " games played on</div></span>"
      ],
      "text/plain": [
       "<IPython.core.display.HTML object>"
      ]
     },
     "metadata": {},
     "output_type": "display_data"
    },
    {
     "name": "stdout",
     "output_type": "stream",
     "text": [
      "====================================================================================================\n",
      "targets:\n"
     ]
    },
    {
     "data": {
      "text/html": [
       "<span class=\"tex2jax_ignore\"><div class=\"entities\" style=\"line-height: 2.5; direction: ltr\">Friday . \n",
       "<mark class=\"entity\" style=\"background: #ff9561; padding: 0.45em 0.6em; margin: 0 0.25em; line-height: 1; border-radius: 0.35em;\">\n",
       "    GERMANY\n",
       "    <span style=\"font-size: 0.8em; font-weight: bold; line-height: 1; border-radius: 0.35em; vertical-align: middle; margin-left: 0.5rem\">LOC</span>\n",
       "</mark>\n",
       " - Bunds extended losses ,</div></span>"
      ],
      "text/plain": [
       "<IPython.core.display.HTML object>"
      ]
     },
     "metadata": {},
     "output_type": "display_data"
    },
    {
     "name": "stdout",
     "output_type": "stream",
     "text": [
      "predictions:\n"
     ]
    },
    {
     "data": {
      "text/html": [
       "<span class=\"tex2jax_ignore\"><div class=\"entities\" style=\"line-height: 2.5; direction: ltr\">Friday . \n",
       "<mark class=\"entity\" style=\"background: #ff9561; padding: 0.45em 0.6em; margin: 0 0.25em; line-height: 1; border-radius: 0.35em;\">\n",
       "    GERMANY\n",
       "    <span style=\"font-size: 0.8em; font-weight: bold; line-height: 1; border-radius: 0.35em; vertical-align: middle; margin-left: 0.5rem\">LOC</span>\n",
       "</mark>\n",
       " - \n",
       "<mark class=\"entity\" style=\"background: #ddd; padding: 0.45em 0.6em; margin: 0 0.25em; line-height: 1; border-radius: 0.35em;\">\n",
       "    Bunds\n",
       "    <span style=\"font-size: 0.8em; font-weight: bold; line-height: 1; border-radius: 0.35em; vertical-align: middle; margin-left: 0.5rem\">MISC</span>\n",
       "</mark>\n",
       " extended losses ,</div></span>"
      ],
      "text/plain": [
       "<IPython.core.display.HTML object>"
      ]
     },
     "metadata": {},
     "output_type": "display_data"
    },
    {
     "name": "stdout",
     "output_type": "stream",
     "text": [
      "====================================================================================================\n",
      "targets:\n"
     ]
    },
    {
     "data": {
      "text/html": [
       "<span class=\"tex2jax_ignore\"><div class=\"entities\" style=\"line-height: 2.5; direction: ltr\">higher . The September Bund future on the</div></span>"
      ],
      "text/plain": [
       "<IPython.core.display.HTML object>"
      ]
     },
     "metadata": {},
     "output_type": "display_data"
    },
    {
     "name": "stdout",
     "output_type": "stream",
     "text": [
      "predictions:\n"
     ]
    },
    {
     "data": {
      "text/html": [
       "<span class=\"tex2jax_ignore\"><div class=\"entities\" style=\"line-height: 2.5; direction: ltr\">higher . The September \n",
       "<mark class=\"entity\" style=\"background: #ddd; padding: 0.45em 0.6em; margin: 0 0.25em; line-height: 1; border-radius: 0.35em;\">\n",
       "    Bund\n",
       "    <span style=\"font-size: 0.8em; font-weight: bold; line-height: 1; border-radius: 0.35em; vertical-align: middle; margin-left: 0.5rem\">MISC</span>\n",
       "</mark>\n",
       " future on the</div></span>"
      ],
      "text/plain": [
       "<IPython.core.display.HTML object>"
      ]
     },
     "metadata": {},
     "output_type": "display_data"
    },
    {
     "name": "stdout",
     "output_type": "stream",
     "text": [
      "====================================================================================================\n",
      "targets:\n"
     ]
    },
    {
     "data": {
      "text/html": [
       "<span class=\"tex2jax_ignore\"><div class=\"entities\" style=\"line-height: 2.5; direction: ltr\">\n",
       "<mark class=\"entity\" style=\"background: #ff9561; padding: 0.45em 0.6em; margin: 0 0.25em; line-height: 1; border-radius: 0.35em;\">\n",
       "    FRANCE\n",
       "    <span style=\"font-size: 0.8em; font-weight: bold; line-height: 1; border-radius: 0.35em; vertical-align: middle; margin-left: 0.5rem\">LOC</span>\n",
       "</mark>\n",
       " - Bond and PIBOR futures ended the</div></span>"
      ],
      "text/plain": [
       "<IPython.core.display.HTML object>"
      ]
     },
     "metadata": {},
     "output_type": "display_data"
    },
    {
     "name": "stdout",
     "output_type": "stream",
     "text": [
      "predictions:\n"
     ]
    },
    {
     "data": {
      "text/html": [
       "<span class=\"tex2jax_ignore\"><div class=\"entities\" style=\"line-height: 2.5; direction: ltr\">\n",
       "<mark class=\"entity\" style=\"background: #ff9561; padding: 0.45em 0.6em; margin: 0 0.25em; line-height: 1; border-radius: 0.35em;\">\n",
       "    FRANCE\n",
       "    <span style=\"font-size: 0.8em; font-weight: bold; line-height: 1; border-radius: 0.35em; vertical-align: middle; margin-left: 0.5rem\">LOC</span>\n",
       "</mark>\n",
       " - Bond and \n",
       "<mark class=\"entity\" style=\"background: #ddd; padding: 0.45em 0.6em; margin: 0 0.25em; line-height: 1; border-radius: 0.35em;\">\n",
       "    PIBOR\n",
       "    <span style=\"font-size: 0.8em; font-weight: bold; line-height: 1; border-radius: 0.35em; vertical-align: middle; margin-left: 0.5rem\">MISC</span>\n",
       "</mark>\n",
       " futures ended the</div></span>"
      ],
      "text/plain": [
       "<IPython.core.display.HTML object>"
      ]
     },
     "metadata": {},
     "output_type": "display_data"
    },
    {
     "name": "stdout",
     "output_type": "stream",
     "text": [
      "====================================================================================================\n",
      "targets:\n"
     ]
    },
    {
     "data": {
      "text/html": [
       "<span class=\"tex2jax_ignore\"><div class=\"entities\" style=\"line-height: 2.5; direction: ltr\">\n",
       "<mark class=\"entity\" style=\"background: #ff9561; padding: 0.45em 0.6em; margin: 0 0.25em; line-height: 1; border-radius: 0.35em;\">\n",
       "    Far East\n",
       "    <span style=\"font-size: 0.8em; font-weight: bold; line-height: 1; border-radius: 0.35em; vertical-align: middle; margin-left: 0.5rem\">LOC</span>\n",
       "</mark>\n",
       " Gold - Moribund market seen continuing</div></span>"
      ],
      "text/plain": [
       "<IPython.core.display.HTML object>"
      ]
     },
     "metadata": {},
     "output_type": "display_data"
    },
    {
     "name": "stdout",
     "output_type": "stream",
     "text": [
      "predictions:\n"
     ]
    },
    {
     "data": {
      "text/html": [
       "<span class=\"tex2jax_ignore\"><div class=\"entities\" style=\"line-height: 2.5; direction: ltr\">\n",
       "<mark class=\"entity\" style=\"background: #ff9561; padding: 0.45em 0.6em; margin: 0 0.25em; line-height: 1; border-radius: 0.35em;\">\n",
       "    Far East\n",
       "    <span style=\"font-size: 0.8em; font-weight: bold; line-height: 1; border-radius: 0.35em; vertical-align: middle; margin-left: 0.5rem\">LOC</span>\n",
       "</mark>\n",
       " Gold - \n",
       "<mark class=\"entity\" style=\"background: #ddd; padding: 0.45em 0.6em; margin: 0 0.25em; line-height: 1; border-radius: 0.35em;\">\n",
       "    Moribund\n",
       "    <span style=\"font-size: 0.8em; font-weight: bold; line-height: 1; border-radius: 0.35em; vertical-align: middle; margin-left: 0.5rem\">MISC</span>\n",
       "</mark>\n",
       " market seen continuing</div></span>"
      ],
      "text/plain": [
       "<IPython.core.display.HTML object>"
      ]
     },
     "metadata": {},
     "output_type": "display_data"
    },
    {
     "name": "stdout",
     "output_type": "stream",
     "text": [
      "====================================================================================================\n",
      "targets:\n"
     ]
    },
    {
     "data": {
      "text/html": [
       "<span class=\"tex2jax_ignore\"><div class=\"entities\" style=\"line-height: 2.5; direction: ltr\">The \n",
       "<mark class=\"entity\" style=\"background: #7aecec; padding: 0.45em 0.6em; margin: 0 0.25em; line-height: 1; border-radius: 0.35em;\">\n",
       "    Standard &amp; Poor\n",
       "    <span style=\"font-size: 0.8em; font-weight: bold; line-height: 1; border-radius: 0.35em; vertical-align: middle; margin-left: 0.5rem\">ORG</span>\n",
       "</mark>\n",
       " 's index of 500</div></span>"
      ],
      "text/plain": [
       "<IPython.core.display.HTML object>"
      ]
     },
     "metadata": {},
     "output_type": "display_data"
    },
    {
     "name": "stdout",
     "output_type": "stream",
     "text": [
      "predictions:\n"
     ]
    },
    {
     "data": {
      "text/html": [
       "<span class=\"tex2jax_ignore\"><div class=\"entities\" style=\"line-height: 2.5; direction: ltr\">The \n",
       "<mark class=\"entity\" style=\"background: #ddd; padding: 0.45em 0.6em; margin: 0 0.25em; line-height: 1; border-radius: 0.35em;\">\n",
       "    Standard &amp; Poor 's\n",
       "    <span style=\"font-size: 0.8em; font-weight: bold; line-height: 1; border-radius: 0.35em; vertical-align: middle; margin-left: 0.5rem\">MISC</span>\n",
       "</mark>\n",
       " index of 500</div></span>"
      ],
      "text/plain": [
       "<IPython.core.display.HTML object>"
      ]
     },
     "metadata": {},
     "output_type": "display_data"
    },
    {
     "name": "stdout",
     "output_type": "stream",
     "text": [
      "====================================================================================================\n"
     ]
    }
   ],
   "source": [
    "# target = O, prediction = I-MISC errors:\n",
    "window = 4\n",
    "count = 0\n",
    "for predictions, targets, sentence in zip(test_word_tags, test_ch_data[\"labels_per_sent\"], test_ch_data[\"sentences\"]):\n",
    "    for i, (prediction, target, word) in enumerate(zip(predictions, targets,sentence )):\n",
    "        if target == \"O\" and prediction == \"I-MISC\":\n",
    "            start = 0 if i-window < 0 else i-window\n",
    "            print(\"targets:\")\n",
    "            show_ner(words = sentence[start: i+window], tags=targets[start: i+window])\n",
    "            print(\"predictions:\")\n",
    "            show_ner(words = sentence[start: i+window], tags=predictions[start: i+window])\n",
    "            print(\"=\"*100)\n",
    "            count += 1\n",
    "    if count > 5: break\n"
   ]
  },
  {
   "cell_type": "code",
   "execution_count": 52,
   "id": "879e226a",
   "metadata": {
    "execution": {
     "iopub.execute_input": "2022-10-29T15:47:18.167671Z",
     "iopub.status.busy": "2022-10-29T15:47:18.166946Z",
     "iopub.status.idle": "2022-10-29T15:47:18.171631Z",
     "shell.execute_reply": "2022-10-29T15:47:18.170714Z"
    },
    "papermill": {
     "duration": 0.032056,
     "end_time": "2022-10-29T15:47:18.173590",
     "exception": false,
     "start_time": "2022-10-29T15:47:18.141534",
     "status": "completed"
    },
    "tags": []
   },
   "outputs": [],
   "source": [
    "### Conclusion: maybe we have not labeled data?"
   ]
  },
  {
   "cell_type": "markdown",
   "id": "d3a6dc3b",
   "metadata": {
    "papermill": {
     "duration": 0.026743,
     "end_time": "2022-10-29T15:47:18.227415",
     "exception": false,
     "start_time": "2022-10-29T15:47:18.200672",
     "status": "completed"
    },
    "tags": []
   },
   "source": [
    "# Further ideas"
   ]
  },
  {
   "cell_type": "code",
   "execution_count": 53,
   "id": "0a85a21e",
   "metadata": {
    "execution": {
     "iopub.execute_input": "2022-10-29T15:47:18.280041Z",
     "iopub.status.busy": "2022-10-29T15:47:18.279133Z",
     "iopub.status.idle": "2022-10-29T15:47:18.283617Z",
     "shell.execute_reply": "2022-10-29T15:47:18.282764Z"
    },
    "papermill": {
     "duration": 0.031849,
     "end_time": "2022-10-29T15:47:18.285418",
     "exception": false,
     "start_time": "2022-10-29T15:47:18.253569",
     "status": "completed"
    },
    "tags": []
   },
   "outputs": [],
   "source": [
    "# 1. Use large models (e.g. deberta-xlarge)\n",
    "# 2. Use LSTM or CRF head for token classification. This approach can help to increase performance \n",
    "#    especially for long entinites.\n",
    "# 3. Analyse tags and correct them. Probably there are not labeled data e.g. MISC.\n",
    "# 4. Use additional features like POS (if possible)."
   ]
  }
 ],
 "metadata": {
  "kernelspec": {
   "display_name": "Python 3",
   "language": "python",
   "name": "python3"
  },
  "language_info": {
   "codemirror_mode": {
    "name": "ipython",
    "version": 3
   },
   "file_extension": ".py",
   "mimetype": "text/x-python",
   "name": "python",
   "nbconvert_exporter": "python",
   "pygments_lexer": "ipython3",
   "version": "3.7.12"
  },
  "papermill": {
   "default_parameters": {},
   "duration": 1915.23898,
   "end_time": "2022-10-29T15:47:22.061615",
   "environment_variables": {},
   "exception": null,
   "input_path": "__notebook__.ipynb",
   "output_path": "__notebook__.ipynb",
   "parameters": {},
   "start_time": "2022-10-29T15:15:26.822635",
   "version": "2.3.4"
  },
  "widgets": {
   "application/vnd.jupyter.widget-state+json": {
    "state": {
     "03fbaacc437142ce9f23f0f7cf835b97": {
      "model_module": "@jupyter-widgets/controls",
      "model_module_version": "1.5.0",
      "model_name": "FloatProgressModel",
      "state": {
       "_dom_classes": [],
       "_model_module": "@jupyter-widgets/controls",
       "_model_module_version": "1.5.0",
       "_model_name": "FloatProgressModel",
       "_view_count": null,
       "_view_module": "@jupyter-widgets/controls",
       "_view_module_version": "1.5.0",
       "_view_name": "ProgressView",
       "bar_style": "success",
       "description": "",
       "description_tooltip": null,
       "layout": "IPY_MODEL_dfb6d9bd72a74700a793e99482971667",
       "max": 898825.0,
       "min": 0.0,
       "orientation": "horizontal",
       "style": "IPY_MODEL_2678628e135c44a181f16f834038fe5d",
       "value": 898825.0
      }
     },
     "0bac14c0c437487ca8aa47e54e2244bb": {
      "model_module": "@jupyter-widgets/base",
      "model_module_version": "1.2.0",
      "model_name": "LayoutModel",
      "state": {
       "_model_module": "@jupyter-widgets/base",
       "_model_module_version": "1.2.0",
       "_model_name": "LayoutModel",
       "_view_count": null,
       "_view_module": "@jupyter-widgets/base",
       "_view_module_version": "1.2.0",
       "_view_name": "LayoutView",
       "align_content": null,
       "align_items": null,
       "align_self": null,
       "border": null,
       "bottom": null,
       "display": null,
       "flex": null,
       "flex_flow": null,
       "grid_area": null,
       "grid_auto_columns": null,
       "grid_auto_flow": null,
       "grid_auto_rows": null,
       "grid_column": null,
       "grid_gap": null,
       "grid_row": null,
       "grid_template_areas": null,
       "grid_template_columns": null,
       "grid_template_rows": null,
       "height": null,
       "justify_content": null,
       "justify_items": null,
       "left": null,
       "margin": null,
       "max_height": null,
       "max_width": null,
       "min_height": null,
       "min_width": null,
       "object_fit": null,
       "object_position": null,
       "order": null,
       "overflow": null,
       "overflow_x": null,
       "overflow_y": null,
       "padding": null,
       "right": null,
       "top": null,
       "visibility": null,
       "width": null
      }
     },
     "0bd8538e9287468ea7c8bf3bd8b30f71": {
      "model_module": "@jupyter-widgets/controls",
      "model_module_version": "1.5.0",
      "model_name": "FloatProgressModel",
      "state": {
       "_dom_classes": [],
       "_model_module": "@jupyter-widgets/controls",
       "_model_module_version": "1.5.0",
       "_model_name": "FloatProgressModel",
       "_view_count": null,
       "_view_module": "@jupyter-widgets/controls",
       "_view_module_version": "1.5.0",
       "_view_name": "ProgressView",
       "bar_style": "success",
       "description": "",
       "description_tooltip": null,
       "layout": "IPY_MODEL_17ef79dc00e54275bf2cbcac591b8b39",
       "max": 1627284589.0,
       "min": 0.0,
       "orientation": "horizontal",
       "style": "IPY_MODEL_be7c75156db149348758948b7225ee9f",
       "value": 1627284589.0
      }
     },
     "0c251017a72d4b17bb97e7ee7b606140": {
      "model_module": "@jupyter-widgets/controls",
      "model_module_version": "1.5.0",
      "model_name": "HTMLModel",
      "state": {
       "_dom_classes": [],
       "_model_module": "@jupyter-widgets/controls",
       "_model_module_version": "1.5.0",
       "_model_name": "HTMLModel",
       "_view_count": null,
       "_view_module": "@jupyter-widgets/controls",
       "_view_module_version": "1.5.0",
       "_view_name": "HTMLView",
       "description": "",
       "description_tooltip": null,
       "layout": "IPY_MODEL_b87837dc3acb4f24a78747adc8e09a7d",
       "placeholder": "​",
       "style": "IPY_MODEL_54699d6c0bbf486e93e68388922012db",
       "value": "Downloading: 100%"
      }
     },
     "15a2f96d4f654c0ea91652908f57b2f1": {
      "model_module": "@jupyter-widgets/base",
      "model_module_version": "1.2.0",
      "model_name": "LayoutModel",
      "state": {
       "_model_module": "@jupyter-widgets/base",
       "_model_module_version": "1.2.0",
       "_model_name": "LayoutModel",
       "_view_count": null,
       "_view_module": "@jupyter-widgets/base",
       "_view_module_version": "1.2.0",
       "_view_name": "LayoutView",
       "align_content": null,
       "align_items": null,
       "align_self": null,
       "border": null,
       "bottom": null,
       "display": null,
       "flex": null,
       "flex_flow": null,
       "grid_area": null,
       "grid_auto_columns": null,
       "grid_auto_flow": null,
       "grid_auto_rows": null,
       "grid_column": null,
       "grid_gap": null,
       "grid_row": null,
       "grid_template_areas": null,
       "grid_template_columns": null,
       "grid_template_rows": null,
       "height": null,
       "justify_content": null,
       "justify_items": null,
       "left": null,
       "margin": null,
       "max_height": null,
       "max_width": null,
       "min_height": null,
       "min_width": null,
       "object_fit": null,
       "object_position": null,
       "order": null,
       "overflow": null,
       "overflow_x": null,
       "overflow_y": null,
       "padding": null,
       "right": null,
       "top": null,
       "visibility": null,
       "width": null
      }
     },
     "162d93079cf74267b2f636498e2ce3e6": {
      "model_module": "@jupyter-widgets/controls",
      "model_module_version": "1.5.0",
      "model_name": "DescriptionStyleModel",
      "state": {
       "_model_module": "@jupyter-widgets/controls",
       "_model_module_version": "1.5.0",
       "_model_name": "DescriptionStyleModel",
       "_view_count": null,
       "_view_module": "@jupyter-widgets/base",
       "_view_module_version": "1.2.0",
       "_view_name": "StyleView",
       "description_width": ""
      }
     },
     "17ef79dc00e54275bf2cbcac591b8b39": {
      "model_module": "@jupyter-widgets/base",
      "model_module_version": "1.2.0",
      "model_name": "LayoutModel",
      "state": {
       "_model_module": "@jupyter-widgets/base",
       "_model_module_version": "1.2.0",
       "_model_name": "LayoutModel",
       "_view_count": null,
       "_view_module": "@jupyter-widgets/base",
       "_view_module_version": "1.2.0",
       "_view_name": "LayoutView",
       "align_content": null,
       "align_items": null,
       "align_self": null,
       "border": null,
       "bottom": null,
       "display": null,
       "flex": null,
       "flex_flow": null,
       "grid_area": null,
       "grid_auto_columns": null,
       "grid_auto_flow": null,
       "grid_auto_rows": null,
       "grid_column": null,
       "grid_gap": null,
       "grid_row": null,
       "grid_template_areas": null,
       "grid_template_columns": null,
       "grid_template_rows": null,
       "height": null,
       "justify_content": null,
       "justify_items": null,
       "left": null,
       "margin": null,
       "max_height": null,
       "max_width": null,
       "min_height": null,
       "min_width": null,
       "object_fit": null,
       "object_position": null,
       "order": null,
       "overflow": null,
       "overflow_x": null,
       "overflow_y": null,
       "padding": null,
       "right": null,
       "top": null,
       "visibility": null,
       "width": null
      }
     },
     "2044e6f01cb54e30aac8550710cc0d94": {
      "model_module": "@jupyter-widgets/controls",
      "model_module_version": "1.5.0",
      "model_name": "HTMLModel",
      "state": {
       "_dom_classes": [],
       "_model_module": "@jupyter-widgets/controls",
       "_model_module_version": "1.5.0",
       "_model_name": "HTMLModel",
       "_view_count": null,
       "_view_module": "@jupyter-widgets/controls",
       "_view_module_version": "1.5.0",
       "_view_name": "HTMLView",
       "description": "",
       "description_tooltip": null,
       "layout": "IPY_MODEL_15a2f96d4f654c0ea91652908f57b2f1",
       "placeholder": "​",
       "style": "IPY_MODEL_162d93079cf74267b2f636498e2ce3e6",
       "value": "Downloading: 100%"
      }
     },
     "22b6928bf43c47db8ba861f6379ecb97": {
      "model_module": "@jupyter-widgets/base",
      "model_module_version": "1.2.0",
      "model_name": "LayoutModel",
      "state": {
       "_model_module": "@jupyter-widgets/base",
       "_model_module_version": "1.2.0",
       "_model_name": "LayoutModel",
       "_view_count": null,
       "_view_module": "@jupyter-widgets/base",
       "_view_module_version": "1.2.0",
       "_view_name": "LayoutView",
       "align_content": null,
       "align_items": null,
       "align_self": null,
       "border": null,
       "bottom": null,
       "display": null,
       "flex": null,
       "flex_flow": null,
       "grid_area": null,
       "grid_auto_columns": null,
       "grid_auto_flow": null,
       "grid_auto_rows": null,
       "grid_column": null,
       "grid_gap": null,
       "grid_row": null,
       "grid_template_areas": null,
       "grid_template_columns": null,
       "grid_template_rows": null,
       "height": null,
       "justify_content": null,
       "justify_items": null,
       "left": null,
       "margin": null,
       "max_height": null,
       "max_width": null,
       "min_height": null,
       "min_width": null,
       "object_fit": null,
       "object_position": null,
       "order": null,
       "overflow": null,
       "overflow_x": null,
       "overflow_y": null,
       "padding": null,
       "right": null,
       "top": null,
       "visibility": null,
       "width": null
      }
     },
     "2678628e135c44a181f16f834038fe5d": {
      "model_module": "@jupyter-widgets/controls",
      "model_module_version": "1.5.0",
      "model_name": "ProgressStyleModel",
      "state": {
       "_model_module": "@jupyter-widgets/controls",
       "_model_module_version": "1.5.0",
       "_model_name": "ProgressStyleModel",
       "_view_count": null,
       "_view_module": "@jupyter-widgets/base",
       "_view_module_version": "1.2.0",
       "_view_name": "StyleView",
       "bar_color": null,
       "description_width": ""
      }
     },
     "2a4fcbbb8380414283d6353619825c55": {
      "model_module": "@jupyter-widgets/controls",
      "model_module_version": "1.5.0",
      "model_name": "FloatProgressModel",
      "state": {
       "_dom_classes": [],
       "_model_module": "@jupyter-widgets/controls",
       "_model_module_version": "1.5.0",
       "_model_name": "FloatProgressModel",
       "_view_count": null,
       "_view_module": "@jupyter-widgets/controls",
       "_view_module_version": "1.5.0",
       "_view_name": "ProgressView",
       "bar_style": "success",
       "description": "",
       "description_tooltip": null,
       "layout": "IPY_MODEL_59c282bdc9cf42368a951d8141c3006f",
       "max": 52.0,
       "min": 0.0,
       "orientation": "horizontal",
       "style": "IPY_MODEL_fea95c79fe0e4ba1b5867f88d4962087",
       "value": 52.0
      }
     },
     "2ba2df900e4d4efbae4728a9129959e9": {
      "model_module": "@jupyter-widgets/base",
      "model_module_version": "1.2.0",
      "model_name": "LayoutModel",
      "state": {
       "_model_module": "@jupyter-widgets/base",
       "_model_module_version": "1.2.0",
       "_model_name": "LayoutModel",
       "_view_count": null,
       "_view_module": "@jupyter-widgets/base",
       "_view_module_version": "1.2.0",
       "_view_name": "LayoutView",
       "align_content": null,
       "align_items": null,
       "align_self": null,
       "border": null,
       "bottom": null,
       "display": null,
       "flex": null,
       "flex_flow": null,
       "grid_area": null,
       "grid_auto_columns": null,
       "grid_auto_flow": null,
       "grid_auto_rows": null,
       "grid_column": null,
       "grid_gap": null,
       "grid_row": null,
       "grid_template_areas": null,
       "grid_template_columns": null,
       "grid_template_rows": null,
       "height": null,
       "justify_content": null,
       "justify_items": null,
       "left": null,
       "margin": null,
       "max_height": null,
       "max_width": null,
       "min_height": null,
       "min_width": null,
       "object_fit": null,
       "object_position": null,
       "order": null,
       "overflow": null,
       "overflow_x": null,
       "overflow_y": null,
       "padding": null,
       "right": null,
       "top": null,
       "visibility": null,
       "width": null
      }
     },
     "36123669b18e4592a448d2dd8dcfa16c": {
      "model_module": "@jupyter-widgets/controls",
      "model_module_version": "1.5.0",
      "model_name": "HBoxModel",
      "state": {
       "_dom_classes": [],
       "_model_module": "@jupyter-widgets/controls",
       "_model_module_version": "1.5.0",
       "_model_name": "HBoxModel",
       "_view_count": null,
       "_view_module": "@jupyter-widgets/controls",
       "_view_module_version": "1.5.0",
       "_view_name": "HBoxView",
       "box_style": "",
       "children": [
        "IPY_MODEL_0c251017a72d4b17bb97e7ee7b606140",
        "IPY_MODEL_2a4fcbbb8380414283d6353619825c55",
        "IPY_MODEL_6829728fbcbf46e4aff7d555fff457d3"
       ],
       "layout": "IPY_MODEL_7d8dce3848de4f72ac2bd9ad3a09744a"
      }
     },
     "42ab8006d4734978b3b8591d73a082e9": {
      "model_module": "@jupyter-widgets/controls",
      "model_module_version": "1.5.0",
      "model_name": "DescriptionStyleModel",
      "state": {
       "_model_module": "@jupyter-widgets/controls",
       "_model_module_version": "1.5.0",
       "_model_name": "DescriptionStyleModel",
       "_view_count": null,
       "_view_module": "@jupyter-widgets/base",
       "_view_module_version": "1.2.0",
       "_view_name": "StyleView",
       "description_width": ""
      }
     },
     "54699d6c0bbf486e93e68388922012db": {
      "model_module": "@jupyter-widgets/controls",
      "model_module_version": "1.5.0",
      "model_name": "DescriptionStyleModel",
      "state": {
       "_model_module": "@jupyter-widgets/controls",
       "_model_module_version": "1.5.0",
       "_model_name": "DescriptionStyleModel",
       "_view_count": null,
       "_view_module": "@jupyter-widgets/base",
       "_view_module_version": "1.2.0",
       "_view_name": "StyleView",
       "description_width": ""
      }
     },
     "59c282bdc9cf42368a951d8141c3006f": {
      "model_module": "@jupyter-widgets/base",
      "model_module_version": "1.2.0",
      "model_name": "LayoutModel",
      "state": {
       "_model_module": "@jupyter-widgets/base",
       "_model_module_version": "1.2.0",
       "_model_name": "LayoutModel",
       "_view_count": null,
       "_view_module": "@jupyter-widgets/base",
       "_view_module_version": "1.2.0",
       "_view_name": "LayoutView",
       "align_content": null,
       "align_items": null,
       "align_self": null,
       "border": null,
       "bottom": null,
       "display": null,
       "flex": null,
       "flex_flow": null,
       "grid_area": null,
       "grid_auto_columns": null,
       "grid_auto_flow": null,
       "grid_auto_rows": null,
       "grid_column": null,
       "grid_gap": null,
       "grid_row": null,
       "grid_template_areas": null,
       "grid_template_columns": null,
       "grid_template_rows": null,
       "height": null,
       "justify_content": null,
       "justify_items": null,
       "left": null,
       "margin": null,
       "max_height": null,
       "max_width": null,
       "min_height": null,
       "min_width": null,
       "object_fit": null,
       "object_position": null,
       "order": null,
       "overflow": null,
       "overflow_x": null,
       "overflow_y": null,
       "padding": null,
       "right": null,
       "top": null,
       "visibility": null,
       "width": null
      }
     },
     "59eabc875b4141d5bd2876c7d207973c": {
      "model_module": "@jupyter-widgets/controls",
      "model_module_version": "1.5.0",
      "model_name": "FloatProgressModel",
      "state": {
       "_dom_classes": [],
       "_model_module": "@jupyter-widgets/controls",
       "_model_module_version": "1.5.0",
       "_model_name": "FloatProgressModel",
       "_view_count": null,
       "_view_module": "@jupyter-widgets/controls",
       "_view_module_version": "1.5.0",
       "_view_name": "ProgressView",
       "bar_style": "success",
       "description": "",
       "description_tooltip": null,
       "layout": "IPY_MODEL_e099324c7620448f972aca94e247072e",
       "max": 475.0,
       "min": 0.0,
       "orientation": "horizontal",
       "style": "IPY_MODEL_ff0e76862efc44a9abace427d1602106",
       "value": 475.0
      }
     },
     "5bce06e715444b83acc06a86d5a2a51c": {
      "model_module": "@jupyter-widgets/controls",
      "model_module_version": "1.5.0",
      "model_name": "DescriptionStyleModel",
      "state": {
       "_model_module": "@jupyter-widgets/controls",
       "_model_module_version": "1.5.0",
       "_model_name": "DescriptionStyleModel",
       "_view_count": null,
       "_view_module": "@jupyter-widgets/base",
       "_view_module_version": "1.2.0",
       "_view_name": "StyleView",
       "description_width": ""
      }
     },
     "5d39f0107dad4e84b22a1e5006c5bdbf": {
      "model_module": "@jupyter-widgets/controls",
      "model_module_version": "1.5.0",
      "model_name": "HTMLModel",
      "state": {
       "_dom_classes": [],
       "_model_module": "@jupyter-widgets/controls",
       "_model_module_version": "1.5.0",
       "_model_name": "HTMLModel",
       "_view_count": null,
       "_view_module": "@jupyter-widgets/controls",
       "_view_module_version": "1.5.0",
       "_view_name": "HTMLView",
       "description": "",
       "description_tooltip": null,
       "layout": "IPY_MODEL_a9cb32436bf44602ac66fc4c4fed1dd6",
       "placeholder": "​",
       "style": "IPY_MODEL_d130c8bd91df4cbb95015769d064026b",
       "value": " 1.52G/1.52G [00:30&lt;00:00, 57.5MB/s]"
      }
     },
     "63ea5320198346caae9b105486390193": {
      "model_module": "@jupyter-widgets/controls",
      "model_module_version": "1.5.0",
      "model_name": "HTMLModel",
      "state": {
       "_dom_classes": [],
       "_model_module": "@jupyter-widgets/controls",
       "_model_module_version": "1.5.0",
       "_model_name": "HTMLModel",
       "_view_count": null,
       "_view_module": "@jupyter-widgets/controls",
       "_view_module_version": "1.5.0",
       "_view_name": "HTMLView",
       "description": "",
       "description_tooltip": null,
       "layout": "IPY_MODEL_ae14f6a21d14466d93975d6ffda43dd2",
       "placeholder": "​",
       "style": "IPY_MODEL_5bce06e715444b83acc06a86d5a2a51c",
       "value": " 475/475 [00:00&lt;00:00, 18.6kB/s]"
      }
     },
     "6829728fbcbf46e4aff7d555fff457d3": {
      "model_module": "@jupyter-widgets/controls",
      "model_module_version": "1.5.0",
      "model_name": "HTMLModel",
      "state": {
       "_dom_classes": [],
       "_model_module": "@jupyter-widgets/controls",
       "_model_module_version": "1.5.0",
       "_model_name": "HTMLModel",
       "_view_count": null,
       "_view_module": "@jupyter-widgets/controls",
       "_view_module_version": "1.5.0",
       "_view_name": "HTMLView",
       "description": "",
       "description_tooltip": null,
       "layout": "IPY_MODEL_94e60c08fa614f31b993efea438b6270",
       "placeholder": "​",
       "style": "IPY_MODEL_bdeb50b0cf464d249d56b7f64279ddca",
       "value": " 52.0/52.0 [00:00&lt;00:00, 2.00kB/s]"
      }
     },
     "6c0b26eec0364846a392223e1bbe8ca0": {
      "model_module": "@jupyter-widgets/controls",
      "model_module_version": "1.5.0",
      "model_name": "HTMLModel",
      "state": {
       "_dom_classes": [],
       "_model_module": "@jupyter-widgets/controls",
       "_model_module_version": "1.5.0",
       "_model_name": "HTMLModel",
       "_view_count": null,
       "_view_module": "@jupyter-widgets/controls",
       "_view_module_version": "1.5.0",
       "_view_name": "HTMLView",
       "description": "",
       "description_tooltip": null,
       "layout": "IPY_MODEL_2ba2df900e4d4efbae4728a9129959e9",
       "placeholder": "​",
       "style": "IPY_MODEL_eeeee1fe902740e481c901d2d61a392e",
       "value": "Downloading: 100%"
      }
     },
     "7d8dce3848de4f72ac2bd9ad3a09744a": {
      "model_module": "@jupyter-widgets/base",
      "model_module_version": "1.2.0",
      "model_name": "LayoutModel",
      "state": {
       "_model_module": "@jupyter-widgets/base",
       "_model_module_version": "1.2.0",
       "_model_name": "LayoutModel",
       "_view_count": null,
       "_view_module": "@jupyter-widgets/base",
       "_view_module_version": "1.2.0",
       "_view_name": "LayoutView",
       "align_content": null,
       "align_items": null,
       "align_self": null,
       "border": null,
       "bottom": null,
       "display": null,
       "flex": null,
       "flex_flow": null,
       "grid_area": null,
       "grid_auto_columns": null,
       "grid_auto_flow": null,
       "grid_auto_rows": null,
       "grid_column": null,
       "grid_gap": null,
       "grid_row": null,
       "grid_template_areas": null,
       "grid_template_columns": null,
       "grid_template_rows": null,
       "height": null,
       "justify_content": null,
       "justify_items": null,
       "left": null,
       "margin": null,
       "max_height": null,
       "max_width": null,
       "min_height": null,
       "min_width": null,
       "object_fit": null,
       "object_position": null,
       "order": null,
       "overflow": null,
       "overflow_x": null,
       "overflow_y": null,
       "padding": null,
       "right": null,
       "top": null,
       "visibility": null,
       "width": null
      }
     },
     "89b76a64fbb74b4e86a666254169eefb": {
      "model_module": "@jupyter-widgets/base",
      "model_module_version": "1.2.0",
      "model_name": "LayoutModel",
      "state": {
       "_model_module": "@jupyter-widgets/base",
       "_model_module_version": "1.2.0",
       "_model_name": "LayoutModel",
       "_view_count": null,
       "_view_module": "@jupyter-widgets/base",
       "_view_module_version": "1.2.0",
       "_view_name": "LayoutView",
       "align_content": null,
       "align_items": null,
       "align_self": null,
       "border": null,
       "bottom": null,
       "display": null,
       "flex": null,
       "flex_flow": null,
       "grid_area": null,
       "grid_auto_columns": null,
       "grid_auto_flow": null,
       "grid_auto_rows": null,
       "grid_column": null,
       "grid_gap": null,
       "grid_row": null,
       "grid_template_areas": null,
       "grid_template_columns": null,
       "grid_template_rows": null,
       "height": null,
       "justify_content": null,
       "justify_items": null,
       "left": null,
       "margin": null,
       "max_height": null,
       "max_width": null,
       "min_height": null,
       "min_width": null,
       "object_fit": null,
       "object_position": null,
       "order": null,
       "overflow": null,
       "overflow_x": null,
       "overflow_y": null,
       "padding": null,
       "right": null,
       "top": null,
       "visibility": null,
       "width": null
      }
     },
     "8c483e31cc744e178f481ec85c9d6b05": {
      "model_module": "@jupyter-widgets/base",
      "model_module_version": "1.2.0",
      "model_name": "LayoutModel",
      "state": {
       "_model_module": "@jupyter-widgets/base",
       "_model_module_version": "1.2.0",
       "_model_name": "LayoutModel",
       "_view_count": null,
       "_view_module": "@jupyter-widgets/base",
       "_view_module_version": "1.2.0",
       "_view_name": "LayoutView",
       "align_content": null,
       "align_items": null,
       "align_self": null,
       "border": null,
       "bottom": null,
       "display": null,
       "flex": null,
       "flex_flow": null,
       "grid_area": null,
       "grid_auto_columns": null,
       "grid_auto_flow": null,
       "grid_auto_rows": null,
       "grid_column": null,
       "grid_gap": null,
       "grid_row": null,
       "grid_template_areas": null,
       "grid_template_columns": null,
       "grid_template_rows": null,
       "height": null,
       "justify_content": null,
       "justify_items": null,
       "left": null,
       "margin": null,
       "max_height": null,
       "max_width": null,
       "min_height": null,
       "min_width": null,
       "object_fit": null,
       "object_position": null,
       "order": null,
       "overflow": null,
       "overflow_x": null,
       "overflow_y": null,
       "padding": null,
       "right": null,
       "top": null,
       "visibility": null,
       "width": null
      }
     },
     "8e60b8d39555455e967d09639610e8df": {
      "model_module": "@jupyter-widgets/controls",
      "model_module_version": "1.5.0",
      "model_name": "HTMLModel",
      "state": {
       "_dom_classes": [],
       "_model_module": "@jupyter-widgets/controls",
       "_model_module_version": "1.5.0",
       "_model_name": "HTMLModel",
       "_view_count": null,
       "_view_module": "@jupyter-widgets/controls",
       "_view_module_version": "1.5.0",
       "_view_name": "HTMLView",
       "description": "",
       "description_tooltip": null,
       "layout": "IPY_MODEL_0bac14c0c437487ca8aa47e54e2244bb",
       "placeholder": "​",
       "style": "IPY_MODEL_e7e1dc71391c4bf7bbe176acdf735e03",
       "value": " 446k/446k [00:00&lt;00:00, 1.35MB/s]"
      }
     },
     "90d77346092a490e89f46aab3948755a": {
      "model_module": "@jupyter-widgets/controls",
      "model_module_version": "1.5.0",
      "model_name": "HBoxModel",
      "state": {
       "_dom_classes": [],
       "_model_module": "@jupyter-widgets/controls",
       "_model_module_version": "1.5.0",
       "_model_name": "HBoxModel",
       "_view_count": null,
       "_view_module": "@jupyter-widgets/controls",
       "_view_module_version": "1.5.0",
       "_view_name": "HBoxView",
       "box_style": "",
       "children": [
        "IPY_MODEL_2044e6f01cb54e30aac8550710cc0d94",
        "IPY_MODEL_ba3d7f22a0434215943d7b3f54d8c087",
        "IPY_MODEL_8e60b8d39555455e967d09639610e8df"
       ],
       "layout": "IPY_MODEL_c6265cc0f1b34fdf9b422bd9974cb0c2"
      }
     },
     "94e60c08fa614f31b993efea438b6270": {
      "model_module": "@jupyter-widgets/base",
      "model_module_version": "1.2.0",
      "model_name": "LayoutModel",
      "state": {
       "_model_module": "@jupyter-widgets/base",
       "_model_module_version": "1.2.0",
       "_model_name": "LayoutModel",
       "_view_count": null,
       "_view_module": "@jupyter-widgets/base",
       "_view_module_version": "1.2.0",
       "_view_name": "LayoutView",
       "align_content": null,
       "align_items": null,
       "align_self": null,
       "border": null,
       "bottom": null,
       "display": null,
       "flex": null,
       "flex_flow": null,
       "grid_area": null,
       "grid_auto_columns": null,
       "grid_auto_flow": null,
       "grid_auto_rows": null,
       "grid_column": null,
       "grid_gap": null,
       "grid_row": null,
       "grid_template_areas": null,
       "grid_template_columns": null,
       "grid_template_rows": null,
       "height": null,
       "justify_content": null,
       "justify_items": null,
       "left": null,
       "margin": null,
       "max_height": null,
       "max_width": null,
       "min_height": null,
       "min_width": null,
       "object_fit": null,
       "object_position": null,
       "order": null,
       "overflow": null,
       "overflow_x": null,
       "overflow_y": null,
       "padding": null,
       "right": null,
       "top": null,
       "visibility": null,
       "width": null
      }
     },
     "a9cb32436bf44602ac66fc4c4fed1dd6": {
      "model_module": "@jupyter-widgets/base",
      "model_module_version": "1.2.0",
      "model_name": "LayoutModel",
      "state": {
       "_model_module": "@jupyter-widgets/base",
       "_model_module_version": "1.2.0",
       "_model_name": "LayoutModel",
       "_view_count": null,
       "_view_module": "@jupyter-widgets/base",
       "_view_module_version": "1.2.0",
       "_view_name": "LayoutView",
       "align_content": null,
       "align_items": null,
       "align_self": null,
       "border": null,
       "bottom": null,
       "display": null,
       "flex": null,
       "flex_flow": null,
       "grid_area": null,
       "grid_auto_columns": null,
       "grid_auto_flow": null,
       "grid_auto_rows": null,
       "grid_column": null,
       "grid_gap": null,
       "grid_row": null,
       "grid_template_areas": null,
       "grid_template_columns": null,
       "grid_template_rows": null,
       "height": null,
       "justify_content": null,
       "justify_items": null,
       "left": null,
       "margin": null,
       "max_height": null,
       "max_width": null,
       "min_height": null,
       "min_width": null,
       "object_fit": null,
       "object_position": null,
       "order": null,
       "overflow": null,
       "overflow_x": null,
       "overflow_y": null,
       "padding": null,
       "right": null,
       "top": null,
       "visibility": null,
       "width": null
      }
     },
     "ac6a5c6891044210827ae2f177d150ad": {
      "model_module": "@jupyter-widgets/base",
      "model_module_version": "1.2.0",
      "model_name": "LayoutModel",
      "state": {
       "_model_module": "@jupyter-widgets/base",
       "_model_module_version": "1.2.0",
       "_model_name": "LayoutModel",
       "_view_count": null,
       "_view_module": "@jupyter-widgets/base",
       "_view_module_version": "1.2.0",
       "_view_name": "LayoutView",
       "align_content": null,
       "align_items": null,
       "align_self": null,
       "border": null,
       "bottom": null,
       "display": null,
       "flex": null,
       "flex_flow": null,
       "grid_area": null,
       "grid_auto_columns": null,
       "grid_auto_flow": null,
       "grid_auto_rows": null,
       "grid_column": null,
       "grid_gap": null,
       "grid_row": null,
       "grid_template_areas": null,
       "grid_template_columns": null,
       "grid_template_rows": null,
       "height": null,
       "justify_content": null,
       "justify_items": null,
       "left": null,
       "margin": null,
       "max_height": null,
       "max_width": null,
       "min_height": null,
       "min_width": null,
       "object_fit": null,
       "object_position": null,
       "order": null,
       "overflow": null,
       "overflow_x": null,
       "overflow_y": null,
       "padding": null,
       "right": null,
       "top": null,
       "visibility": null,
       "width": null
      }
     },
     "ae14f6a21d14466d93975d6ffda43dd2": {
      "model_module": "@jupyter-widgets/base",
      "model_module_version": "1.2.0",
      "model_name": "LayoutModel",
      "state": {
       "_model_module": "@jupyter-widgets/base",
       "_model_module_version": "1.2.0",
       "_model_name": "LayoutModel",
       "_view_count": null,
       "_view_module": "@jupyter-widgets/base",
       "_view_module_version": "1.2.0",
       "_view_name": "LayoutView",
       "align_content": null,
       "align_items": null,
       "align_self": null,
       "border": null,
       "bottom": null,
       "display": null,
       "flex": null,
       "flex_flow": null,
       "grid_area": null,
       "grid_auto_columns": null,
       "grid_auto_flow": null,
       "grid_auto_rows": null,
       "grid_column": null,
       "grid_gap": null,
       "grid_row": null,
       "grid_template_areas": null,
       "grid_template_columns": null,
       "grid_template_rows": null,
       "height": null,
       "justify_content": null,
       "justify_items": null,
       "left": null,
       "margin": null,
       "max_height": null,
       "max_width": null,
       "min_height": null,
       "min_width": null,
       "object_fit": null,
       "object_position": null,
       "order": null,
       "overflow": null,
       "overflow_x": null,
       "overflow_y": null,
       "padding": null,
       "right": null,
       "top": null,
       "visibility": null,
       "width": null
      }
     },
     "b33f57fb72a34cc1bbedb8420ddd719f": {
      "model_module": "@jupyter-widgets/controls",
      "model_module_version": "1.5.0",
      "model_name": "HTMLModel",
      "state": {
       "_dom_classes": [],
       "_model_module": "@jupyter-widgets/controls",
       "_model_module_version": "1.5.0",
       "_model_name": "HTMLModel",
       "_view_count": null,
       "_view_module": "@jupyter-widgets/controls",
       "_view_module_version": "1.5.0",
       "_view_name": "HTMLView",
       "description": "",
       "description_tooltip": null,
       "layout": "IPY_MODEL_c7381a41005241a28b966908cc664984",
       "placeholder": "​",
       "style": "IPY_MODEL_e709a0ac864949a4bf39383da5956d5f",
       "value": "Downloading: 100%"
      }
     },
     "b67fa5f01b274bd1b0615d25cf459859": {
      "model_module": "@jupyter-widgets/controls",
      "model_module_version": "1.5.0",
      "model_name": "HBoxModel",
      "state": {
       "_dom_classes": [],
       "_model_module": "@jupyter-widgets/controls",
       "_model_module_version": "1.5.0",
       "_model_name": "HBoxModel",
       "_view_count": null,
       "_view_module": "@jupyter-widgets/controls",
       "_view_module_version": "1.5.0",
       "_view_name": "HBoxView",
       "box_style": "",
       "children": [
        "IPY_MODEL_f4e926f6b66448f48b71e9012d0b5a44",
        "IPY_MODEL_03fbaacc437142ce9f23f0f7cf835b97",
        "IPY_MODEL_bd57076266334f8b877415a9224cc69c"
       ],
       "layout": "IPY_MODEL_efcc5ceb849541cc95c1a671e4373461"
      }
     },
     "b87837dc3acb4f24a78747adc8e09a7d": {
      "model_module": "@jupyter-widgets/base",
      "model_module_version": "1.2.0",
      "model_name": "LayoutModel",
      "state": {
       "_model_module": "@jupyter-widgets/base",
       "_model_module_version": "1.2.0",
       "_model_name": "LayoutModel",
       "_view_count": null,
       "_view_module": "@jupyter-widgets/base",
       "_view_module_version": "1.2.0",
       "_view_name": "LayoutView",
       "align_content": null,
       "align_items": null,
       "align_self": null,
       "border": null,
       "bottom": null,
       "display": null,
       "flex": null,
       "flex_flow": null,
       "grid_area": null,
       "grid_auto_columns": null,
       "grid_auto_flow": null,
       "grid_auto_rows": null,
       "grid_column": null,
       "grid_gap": null,
       "grid_row": null,
       "grid_template_areas": null,
       "grid_template_columns": null,
       "grid_template_rows": null,
       "height": null,
       "justify_content": null,
       "justify_items": null,
       "left": null,
       "margin": null,
       "max_height": null,
       "max_width": null,
       "min_height": null,
       "min_width": null,
       "object_fit": null,
       "object_position": null,
       "order": null,
       "overflow": null,
       "overflow_x": null,
       "overflow_y": null,
       "padding": null,
       "right": null,
       "top": null,
       "visibility": null,
       "width": null
      }
     },
     "ba3d7f22a0434215943d7b3f54d8c087": {
      "model_module": "@jupyter-widgets/controls",
      "model_module_version": "1.5.0",
      "model_name": "FloatProgressModel",
      "state": {
       "_dom_classes": [],
       "_model_module": "@jupyter-widgets/controls",
       "_model_module_version": "1.5.0",
       "_model_name": "FloatProgressModel",
       "_view_count": null,
       "_view_module": "@jupyter-widgets/controls",
       "_view_module_version": "1.5.0",
       "_view_name": "ProgressView",
       "bar_style": "success",
       "description": "",
       "description_tooltip": null,
       "layout": "IPY_MODEL_c8a08336ec394bed888d4c48086ffdfb",
       "max": 456318.0,
       "min": 0.0,
       "orientation": "horizontal",
       "style": "IPY_MODEL_c952cf7154f844b7b8a15fb1058d3bb8",
       "value": 456318.0
      }
     },
     "bd57076266334f8b877415a9224cc69c": {
      "model_module": "@jupyter-widgets/controls",
      "model_module_version": "1.5.0",
      "model_name": "HTMLModel",
      "state": {
       "_dom_classes": [],
       "_model_module": "@jupyter-widgets/controls",
       "_model_module_version": "1.5.0",
       "_model_name": "HTMLModel",
       "_view_count": null,
       "_view_module": "@jupyter-widgets/controls",
       "_view_module_version": "1.5.0",
       "_view_name": "HTMLView",
       "description": "",
       "description_tooltip": null,
       "layout": "IPY_MODEL_ac6a5c6891044210827ae2f177d150ad",
       "placeholder": "​",
       "style": "IPY_MODEL_42ab8006d4734978b3b8591d73a082e9",
       "value": " 878k/878k [00:00&lt;00:00, 2.10MB/s]"
      }
     },
     "bdeb50b0cf464d249d56b7f64279ddca": {
      "model_module": "@jupyter-widgets/controls",
      "model_module_version": "1.5.0",
      "model_name": "DescriptionStyleModel",
      "state": {
       "_model_module": "@jupyter-widgets/controls",
       "_model_module_version": "1.5.0",
       "_model_name": "DescriptionStyleModel",
       "_view_count": null,
       "_view_module": "@jupyter-widgets/base",
       "_view_module_version": "1.2.0",
       "_view_name": "StyleView",
       "description_width": ""
      }
     },
     "be7c75156db149348758948b7225ee9f": {
      "model_module": "@jupyter-widgets/controls",
      "model_module_version": "1.5.0",
      "model_name": "ProgressStyleModel",
      "state": {
       "_model_module": "@jupyter-widgets/controls",
       "_model_module_version": "1.5.0",
       "_model_name": "ProgressStyleModel",
       "_view_count": null,
       "_view_module": "@jupyter-widgets/base",
       "_view_module_version": "1.2.0",
       "_view_name": "StyleView",
       "bar_color": null,
       "description_width": ""
      }
     },
     "c6265cc0f1b34fdf9b422bd9974cb0c2": {
      "model_module": "@jupyter-widgets/base",
      "model_module_version": "1.2.0",
      "model_name": "LayoutModel",
      "state": {
       "_model_module": "@jupyter-widgets/base",
       "_model_module_version": "1.2.0",
       "_model_name": "LayoutModel",
       "_view_count": null,
       "_view_module": "@jupyter-widgets/base",
       "_view_module_version": "1.2.0",
       "_view_name": "LayoutView",
       "align_content": null,
       "align_items": null,
       "align_self": null,
       "border": null,
       "bottom": null,
       "display": null,
       "flex": null,
       "flex_flow": null,
       "grid_area": null,
       "grid_auto_columns": null,
       "grid_auto_flow": null,
       "grid_auto_rows": null,
       "grid_column": null,
       "grid_gap": null,
       "grid_row": null,
       "grid_template_areas": null,
       "grid_template_columns": null,
       "grid_template_rows": null,
       "height": null,
       "justify_content": null,
       "justify_items": null,
       "left": null,
       "margin": null,
       "max_height": null,
       "max_width": null,
       "min_height": null,
       "min_width": null,
       "object_fit": null,
       "object_position": null,
       "order": null,
       "overflow": null,
       "overflow_x": null,
       "overflow_y": null,
       "padding": null,
       "right": null,
       "top": null,
       "visibility": null,
       "width": null
      }
     },
     "c7381a41005241a28b966908cc664984": {
      "model_module": "@jupyter-widgets/base",
      "model_module_version": "1.2.0",
      "model_name": "LayoutModel",
      "state": {
       "_model_module": "@jupyter-widgets/base",
       "_model_module_version": "1.2.0",
       "_model_name": "LayoutModel",
       "_view_count": null,
       "_view_module": "@jupyter-widgets/base",
       "_view_module_version": "1.2.0",
       "_view_name": "LayoutView",
       "align_content": null,
       "align_items": null,
       "align_self": null,
       "border": null,
       "bottom": null,
       "display": null,
       "flex": null,
       "flex_flow": null,
       "grid_area": null,
       "grid_auto_columns": null,
       "grid_auto_flow": null,
       "grid_auto_rows": null,
       "grid_column": null,
       "grid_gap": null,
       "grid_row": null,
       "grid_template_areas": null,
       "grid_template_columns": null,
       "grid_template_rows": null,
       "height": null,
       "justify_content": null,
       "justify_items": null,
       "left": null,
       "margin": null,
       "max_height": null,
       "max_width": null,
       "min_height": null,
       "min_width": null,
       "object_fit": null,
       "object_position": null,
       "order": null,
       "overflow": null,
       "overflow_x": null,
       "overflow_y": null,
       "padding": null,
       "right": null,
       "top": null,
       "visibility": null,
       "width": null
      }
     },
     "c8a08336ec394bed888d4c48086ffdfb": {
      "model_module": "@jupyter-widgets/base",
      "model_module_version": "1.2.0",
      "model_name": "LayoutModel",
      "state": {
       "_model_module": "@jupyter-widgets/base",
       "_model_module_version": "1.2.0",
       "_model_name": "LayoutModel",
       "_view_count": null,
       "_view_module": "@jupyter-widgets/base",
       "_view_module_version": "1.2.0",
       "_view_name": "LayoutView",
       "align_content": null,
       "align_items": null,
       "align_self": null,
       "border": null,
       "bottom": null,
       "display": null,
       "flex": null,
       "flex_flow": null,
       "grid_area": null,
       "grid_auto_columns": null,
       "grid_auto_flow": null,
       "grid_auto_rows": null,
       "grid_column": null,
       "grid_gap": null,
       "grid_row": null,
       "grid_template_areas": null,
       "grid_template_columns": null,
       "grid_template_rows": null,
       "height": null,
       "justify_content": null,
       "justify_items": null,
       "left": null,
       "margin": null,
       "max_height": null,
       "max_width": null,
       "min_height": null,
       "min_width": null,
       "object_fit": null,
       "object_position": null,
       "order": null,
       "overflow": null,
       "overflow_x": null,
       "overflow_y": null,
       "padding": null,
       "right": null,
       "top": null,
       "visibility": null,
       "width": null
      }
     },
     "c952cf7154f844b7b8a15fb1058d3bb8": {
      "model_module": "@jupyter-widgets/controls",
      "model_module_version": "1.5.0",
      "model_name": "ProgressStyleModel",
      "state": {
       "_model_module": "@jupyter-widgets/controls",
       "_model_module_version": "1.5.0",
       "_model_name": "ProgressStyleModel",
       "_view_count": null,
       "_view_module": "@jupyter-widgets/base",
       "_view_module_version": "1.2.0",
       "_view_name": "StyleView",
       "bar_color": null,
       "description_width": ""
      }
     },
     "d130c8bd91df4cbb95015769d064026b": {
      "model_module": "@jupyter-widgets/controls",
      "model_module_version": "1.5.0",
      "model_name": "DescriptionStyleModel",
      "state": {
       "_model_module": "@jupyter-widgets/controls",
       "_model_module_version": "1.5.0",
       "_model_name": "DescriptionStyleModel",
       "_view_count": null,
       "_view_module": "@jupyter-widgets/base",
       "_view_module_version": "1.2.0",
       "_view_name": "StyleView",
       "description_width": ""
      }
     },
     "dfb6d9bd72a74700a793e99482971667": {
      "model_module": "@jupyter-widgets/base",
      "model_module_version": "1.2.0",
      "model_name": "LayoutModel",
      "state": {
       "_model_module": "@jupyter-widgets/base",
       "_model_module_version": "1.2.0",
       "_model_name": "LayoutModel",
       "_view_count": null,
       "_view_module": "@jupyter-widgets/base",
       "_view_module_version": "1.2.0",
       "_view_name": "LayoutView",
       "align_content": null,
       "align_items": null,
       "align_self": null,
       "border": null,
       "bottom": null,
       "display": null,
       "flex": null,
       "flex_flow": null,
       "grid_area": null,
       "grid_auto_columns": null,
       "grid_auto_flow": null,
       "grid_auto_rows": null,
       "grid_column": null,
       "grid_gap": null,
       "grid_row": null,
       "grid_template_areas": null,
       "grid_template_columns": null,
       "grid_template_rows": null,
       "height": null,
       "justify_content": null,
       "justify_items": null,
       "left": null,
       "margin": null,
       "max_height": null,
       "max_width": null,
       "min_height": null,
       "min_width": null,
       "object_fit": null,
       "object_position": null,
       "order": null,
       "overflow": null,
       "overflow_x": null,
       "overflow_y": null,
       "padding": null,
       "right": null,
       "top": null,
       "visibility": null,
       "width": null
      }
     },
     "e099324c7620448f972aca94e247072e": {
      "model_module": "@jupyter-widgets/base",
      "model_module_version": "1.2.0",
      "model_name": "LayoutModel",
      "state": {
       "_model_module": "@jupyter-widgets/base",
       "_model_module_version": "1.2.0",
       "_model_name": "LayoutModel",
       "_view_count": null,
       "_view_module": "@jupyter-widgets/base",
       "_view_module_version": "1.2.0",
       "_view_name": "LayoutView",
       "align_content": null,
       "align_items": null,
       "align_self": null,
       "border": null,
       "bottom": null,
       "display": null,
       "flex": null,
       "flex_flow": null,
       "grid_area": null,
       "grid_auto_columns": null,
       "grid_auto_flow": null,
       "grid_auto_rows": null,
       "grid_column": null,
       "grid_gap": null,
       "grid_row": null,
       "grid_template_areas": null,
       "grid_template_columns": null,
       "grid_template_rows": null,
       "height": null,
       "justify_content": null,
       "justify_items": null,
       "left": null,
       "margin": null,
       "max_height": null,
       "max_width": null,
       "min_height": null,
       "min_width": null,
       "object_fit": null,
       "object_position": null,
       "order": null,
       "overflow": null,
       "overflow_x": null,
       "overflow_y": null,
       "padding": null,
       "right": null,
       "top": null,
       "visibility": null,
       "width": null
      }
     },
     "e709a0ac864949a4bf39383da5956d5f": {
      "model_module": "@jupyter-widgets/controls",
      "model_module_version": "1.5.0",
      "model_name": "DescriptionStyleModel",
      "state": {
       "_model_module": "@jupyter-widgets/controls",
       "_model_module_version": "1.5.0",
       "_model_name": "DescriptionStyleModel",
       "_view_count": null,
       "_view_module": "@jupyter-widgets/base",
       "_view_module_version": "1.2.0",
       "_view_name": "StyleView",
       "description_width": ""
      }
     },
     "e7e1dc71391c4bf7bbe176acdf735e03": {
      "model_module": "@jupyter-widgets/controls",
      "model_module_version": "1.5.0",
      "model_name": "DescriptionStyleModel",
      "state": {
       "_model_module": "@jupyter-widgets/controls",
       "_model_module_version": "1.5.0",
       "_model_name": "DescriptionStyleModel",
       "_view_count": null,
       "_view_module": "@jupyter-widgets/base",
       "_view_module_version": "1.2.0",
       "_view_name": "StyleView",
       "description_width": ""
      }
     },
     "eeeee1fe902740e481c901d2d61a392e": {
      "model_module": "@jupyter-widgets/controls",
      "model_module_version": "1.5.0",
      "model_name": "DescriptionStyleModel",
      "state": {
       "_model_module": "@jupyter-widgets/controls",
       "_model_module_version": "1.5.0",
       "_model_name": "DescriptionStyleModel",
       "_view_count": null,
       "_view_module": "@jupyter-widgets/base",
       "_view_module_version": "1.2.0",
       "_view_name": "StyleView",
       "description_width": ""
      }
     },
     "efcc5ceb849541cc95c1a671e4373461": {
      "model_module": "@jupyter-widgets/base",
      "model_module_version": "1.2.0",
      "model_name": "LayoutModel",
      "state": {
       "_model_module": "@jupyter-widgets/base",
       "_model_module_version": "1.2.0",
       "_model_name": "LayoutModel",
       "_view_count": null,
       "_view_module": "@jupyter-widgets/base",
       "_view_module_version": "1.2.0",
       "_view_name": "LayoutView",
       "align_content": null,
       "align_items": null,
       "align_self": null,
       "border": null,
       "bottom": null,
       "display": null,
       "flex": null,
       "flex_flow": null,
       "grid_area": null,
       "grid_auto_columns": null,
       "grid_auto_flow": null,
       "grid_auto_rows": null,
       "grid_column": null,
       "grid_gap": null,
       "grid_row": null,
       "grid_template_areas": null,
       "grid_template_columns": null,
       "grid_template_rows": null,
       "height": null,
       "justify_content": null,
       "justify_items": null,
       "left": null,
       "margin": null,
       "max_height": null,
       "max_width": null,
       "min_height": null,
       "min_width": null,
       "object_fit": null,
       "object_position": null,
       "order": null,
       "overflow": null,
       "overflow_x": null,
       "overflow_y": null,
       "padding": null,
       "right": null,
       "top": null,
       "visibility": null,
       "width": null
      }
     },
     "f484525958914f3e87010ee5c8599e07": {
      "model_module": "@jupyter-widgets/controls",
      "model_module_version": "1.5.0",
      "model_name": "DescriptionStyleModel",
      "state": {
       "_model_module": "@jupyter-widgets/controls",
       "_model_module_version": "1.5.0",
       "_model_name": "DescriptionStyleModel",
       "_view_count": null,
       "_view_module": "@jupyter-widgets/base",
       "_view_module_version": "1.2.0",
       "_view_name": "StyleView",
       "description_width": ""
      }
     },
     "f4e926f6b66448f48b71e9012d0b5a44": {
      "model_module": "@jupyter-widgets/controls",
      "model_module_version": "1.5.0",
      "model_name": "HTMLModel",
      "state": {
       "_dom_classes": [],
       "_model_module": "@jupyter-widgets/controls",
       "_model_module_version": "1.5.0",
       "_model_name": "HTMLModel",
       "_view_count": null,
       "_view_module": "@jupyter-widgets/controls",
       "_view_module_version": "1.5.0",
       "_view_name": "HTMLView",
       "description": "",
       "description_tooltip": null,
       "layout": "IPY_MODEL_22b6928bf43c47db8ba861f6379ecb97",
       "placeholder": "​",
       "style": "IPY_MODEL_f484525958914f3e87010ee5c8599e07",
       "value": "Downloading: 100%"
      }
     },
     "f932fad537fa48c0b2f70cf427a57f9c": {
      "model_module": "@jupyter-widgets/controls",
      "model_module_version": "1.5.0",
      "model_name": "HBoxModel",
      "state": {
       "_dom_classes": [],
       "_model_module": "@jupyter-widgets/controls",
       "_model_module_version": "1.5.0",
       "_model_name": "HBoxModel",
       "_view_count": null,
       "_view_module": "@jupyter-widgets/controls",
       "_view_module_version": "1.5.0",
       "_view_name": "HBoxView",
       "box_style": "",
       "children": [
        "IPY_MODEL_b33f57fb72a34cc1bbedb8420ddd719f",
        "IPY_MODEL_0bd8538e9287468ea7c8bf3bd8b30f71",
        "IPY_MODEL_5d39f0107dad4e84b22a1e5006c5bdbf"
       ],
       "layout": "IPY_MODEL_89b76a64fbb74b4e86a666254169eefb"
      }
     },
     "fea95c79fe0e4ba1b5867f88d4962087": {
      "model_module": "@jupyter-widgets/controls",
      "model_module_version": "1.5.0",
      "model_name": "ProgressStyleModel",
      "state": {
       "_model_module": "@jupyter-widgets/controls",
       "_model_module_version": "1.5.0",
       "_model_name": "ProgressStyleModel",
       "_view_count": null,
       "_view_module": "@jupyter-widgets/base",
       "_view_module_version": "1.2.0",
       "_view_name": "StyleView",
       "bar_color": null,
       "description_width": ""
      }
     },
     "ff0e76862efc44a9abace427d1602106": {
      "model_module": "@jupyter-widgets/controls",
      "model_module_version": "1.5.0",
      "model_name": "ProgressStyleModel",
      "state": {
       "_model_module": "@jupyter-widgets/controls",
       "_model_module_version": "1.5.0",
       "_model_name": "ProgressStyleModel",
       "_view_count": null,
       "_view_module": "@jupyter-widgets/base",
       "_view_module_version": "1.2.0",
       "_view_name": "StyleView",
       "bar_color": null,
       "description_width": ""
      }
     },
     "ff0f870552e74a318750d3d3c0be5877": {
      "model_module": "@jupyter-widgets/controls",
      "model_module_version": "1.5.0",
      "model_name": "HBoxModel",
      "state": {
       "_dom_classes": [],
       "_model_module": "@jupyter-widgets/controls",
       "_model_module_version": "1.5.0",
       "_model_name": "HBoxModel",
       "_view_count": null,
       "_view_module": "@jupyter-widgets/controls",
       "_view_module_version": "1.5.0",
       "_view_name": "HBoxView",
       "box_style": "",
       "children": [
        "IPY_MODEL_6c0b26eec0364846a392223e1bbe8ca0",
        "IPY_MODEL_59eabc875b4141d5bd2876c7d207973c",
        "IPY_MODEL_63ea5320198346caae9b105486390193"
       ],
       "layout": "IPY_MODEL_8c483e31cc744e178f481ec85c9d6b05"
      }
     }
    },
    "version_major": 2,
    "version_minor": 0
   }
  }
 },
 "nbformat": 4,
 "nbformat_minor": 5
}
